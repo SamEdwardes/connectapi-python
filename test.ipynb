{
 "cells": [
  {
   "cell_type": "code",
   "execution_count": 4,
   "metadata": {},
   "outputs": [
    {
     "data": {
      "text/html": [
       "<pre style=\"white-space:pre;overflow-x:auto;line-height:normal;font-family:Menlo,'DejaVu Sans Mono',consolas,'Courier New',monospace\"><span style=\"color: #800080; text-decoration-color: #800080; font-weight: bold\">Content</span><span style=\"font-weight: bold\">(</span>\n",
       "    <span style=\"color: #808000; text-decoration-color: #808000\">guid</span>=<span style=\"color: #008000; text-decoration-color: #008000\">'241fe2cd-6eba-4a79-9aa3-6e6fe28c5714'</span>,\n",
       "    <span style=\"color: #808000; text-decoration-color: #808000\">name</span>=<span style=\"color: #008000; text-decoration-color: #008000\">'Jupyter-Notebook---Palmer-Penguins-1662582421920'</span>,\n",
       "    <span style=\"color: #808000; text-decoration-color: #808000\">title</span>=<span style=\"color: #008000; text-decoration-color: #008000\">'Jupyter Notebook - Palmer Penguins'</span>,\n",
       "    <span style=\"color: #808000; text-decoration-color: #808000\">description</span>=<span style=\"color: #008000; text-decoration-color: #008000\">''</span>,\n",
       "    <span style=\"color: #808000; text-decoration-color: #808000\">connection_timeout</span>=<span style=\"color: #800080; text-decoration-color: #800080; font-style: italic\">None</span>\n",
       "<span style=\"font-weight: bold\">)</span>\n",
       "</pre>\n"
      ],
      "text/plain": [
       "\u001b[1;35mContent\u001b[0m\u001b[1m(\u001b[0m\n",
       "    \u001b[33mguid\u001b[0m=\u001b[32m'241fe2cd-6eba-4a79-9aa3-6e6fe28c5714'\u001b[0m,\n",
       "    \u001b[33mname\u001b[0m=\u001b[32m'Jupyter-Notebook---Palmer-Penguins-1662582421920'\u001b[0m,\n",
       "    \u001b[33mtitle\u001b[0m=\u001b[32m'Jupyter Notebook - Palmer Penguins'\u001b[0m,\n",
       "    \u001b[33mdescription\u001b[0m=\u001b[32m''\u001b[0m,\n",
       "    \u001b[33mconnection_timeout\u001b[0m=\u001b[3;35mNone\u001b[0m\n",
       "\u001b[1m)\u001b[0m\n"
      ]
     },
     "metadata": {},
     "output_type": "display_data"
    },
    {
     "data": {
      "text/plain": [
       "True"
      ]
     },
     "execution_count": 4,
     "metadata": {},
     "output_type": "execute_result"
    }
   ],
   "source": [
    "%reload_ext autoreload\n",
    "%autoreload 2\n",
    "\n",
    "from rich import print, inspect\n",
    "from connectapi import Api, Client, models\n",
    "\n",
    "\n",
    "api = Api()\n",
    "r = api.content.get_details(guid=\"241fe2cd-6eba-4a79-9aa3-6e6fe28c5714\")\n",
    "print(r)\n",
    "isinstance(r, models.content.Content)\n",
    "\n"
   ]
  },
  {
   "cell_type": "code",
   "execution_count": 9,
   "metadata": {},
   "outputs": [
    {
     "data": {
      "text/html": [
       "<pre style=\"white-space:pre;overflow-x:auto;line-height:normal;font-family:Menlo,'DejaVu Sans Mono',consolas,'Courier New',monospace\"><span style=\"color: #000080; text-decoration-color: #000080\">╭─────────────────────────────────────────── </span><span style=\"color: #000080; text-decoration-color: #000080; font-weight: bold\">&lt;</span><span style=\"color: #ff00ff; text-decoration-color: #ff00ff; font-weight: bold\">class</span><span style=\"color: #000000; text-decoration-color: #000000\"> </span><span style=\"color: #008000; text-decoration-color: #008000\">'httpx.Response'</span><span style=\"color: #000080; text-decoration-color: #000080; font-weight: bold\">&gt;</span><span style=\"color: #000080; text-decoration-color: #000080\"> ────────────────────────────────────────────╮</span>\n",
       "<span style=\"color: #000080; text-decoration-color: #000080\">│</span> <span style=\"color: #008000; text-decoration-color: #008000\">╭─────────────────────────────────────────────────────────────────────────────────────────────────────────────╮</span> <span style=\"color: #000080; text-decoration-color: #000080\">│</span>\n",
       "<span style=\"color: #000080; text-decoration-color: #000080\">│</span> <span style=\"color: #008000; text-decoration-color: #008000\">│</span> <span style=\"font-weight: bold\">&lt;</span><span style=\"color: #ff00ff; text-decoration-color: #ff00ff; font-weight: bold\">Response</span><span style=\"color: #000000; text-decoration-color: #000000\"> </span><span style=\"color: #000000; text-decoration-color: #000000; font-weight: bold\">[</span><span style=\"color: #008080; text-decoration-color: #008080; font-weight: bold\">404</span><span style=\"color: #000000; text-decoration-color: #000000\"> Not Found</span><span style=\"color: #000000; text-decoration-color: #000000; font-weight: bold\">]</span><span style=\"font-weight: bold\">&gt;</span>                                                                                  <span style=\"color: #008000; text-decoration-color: #008000\">│</span> <span style=\"color: #000080; text-decoration-color: #000080\">│</span>\n",
       "<span style=\"color: #000080; text-decoration-color: #000080\">│</span> <span style=\"color: #008000; text-decoration-color: #008000\">╰─────────────────────────────────────────────────────────────────────────────────────────────────────────────╯</span> <span style=\"color: #000080; text-decoration-color: #000080\">│</span>\n",
       "<span style=\"color: #000080; text-decoration-color: #000080\">│</span>                                                                                                                 <span style=\"color: #000080; text-decoration-color: #000080\">│</span>\n",
       "<span style=\"color: #000080; text-decoration-color: #000080\">│</span>      <span style=\"color: #808000; text-decoration-color: #808000; font-style: italic\">charset_encoding</span> = <span style=\"color: #800080; text-decoration-color: #800080; font-style: italic\">None</span>                                                                                    <span style=\"color: #000080; text-decoration-color: #000080\">│</span>\n",
       "<span style=\"color: #000080; text-decoration-color: #000080\">│</span>               <span style=\"color: #808000; text-decoration-color: #808000; font-style: italic\">content</span> = <span style=\"color: #008000; text-decoration-color: #008000\">b'404 page not found'</span>                                                                   <span style=\"color: #000080; text-decoration-color: #000080\">│</span>\n",
       "<span style=\"color: #000080; text-decoration-color: #000080\">│</span>               <span style=\"color: #808000; text-decoration-color: #808000; font-style: italic\">cookies</span> = <span style=\"font-weight: bold\">&lt;</span><span style=\"color: #ff00ff; text-decoration-color: #ff00ff; font-weight: bold\">Cookies</span><span style=\"color: #000000; text-decoration-color: #000000; font-weight: bold\">[</span><span style=\"color: #000000; text-decoration-color: #000000\">&lt;Cookie colorado-</span><span style=\"color: #808000; text-decoration-color: #808000\">rsc</span><span style=\"color: #000000; text-decoration-color: #000000\">=</span><span style=\"color: #800080; text-decoration-color: #800080\">4ac027405a0561f8</span><span style=\"color: #000000; text-decoration-color: #000000\"> for colorado.rstudio.com </span><span style=\"color: #800080; text-decoration-color: #800080\">/</span><span style=\"font-weight: bold\">&gt;</span>, <span style=\"font-weight: bold\">&lt;</span><span style=\"color: #ff00ff; text-decoration-color: #ff00ff; font-weight: bold\">Cookie</span><span style=\"color: #000000; text-decoration-color: #000000\"> </span>    <span style=\"color: #000080; text-decoration-color: #000080\">│</span>\n",
       "<span style=\"color: #000080; text-decoration-color: #000080\">│</span>                         <span style=\"color: #808000; text-decoration-color: #808000\">rscid</span><span style=\"color: #000000; text-decoration-color: #000000\">=</span><span style=\"color: #800080; text-decoration-color: #800080\">MTY2MjYxMjIxN3xEdi1CQkFFQ180SUFBUkFCRUFBQU52LUNBQU1HYzNSeWFXNW5EQVlBQkVkVlNVUVNZ…</span> <span style=\"color: #000080; text-decoration-color: #000080\">│</span>\n",
       "<span style=\"color: #000080; text-decoration-color: #000080\">│</span>                         <span style=\"color: #000000; text-decoration-color: #000000\">for colorado.rstudio.com </span><span style=\"color: #800080; text-decoration-color: #800080\">/</span><span style=\"font-weight: bold\">&gt;</span>, <span style=\"font-weight: bold\">&lt;</span><span style=\"color: #ff00ff; text-decoration-color: #ff00ff; font-weight: bold\">Cookie</span><span style=\"color: #000000; text-decoration-color: #000000\"> </span>                                                   <span style=\"color: #000080; text-decoration-color: #000080\">│</span>\n",
       "<span style=\"color: #000080; text-decoration-color: #000080\">│</span>                         <span style=\"color: #000000; text-decoration-color: #000000\">rscid-</span><span style=\"color: #808000; text-decoration-color: #808000\">legacy</span><span style=\"color: #000000; text-decoration-color: #000000\">=</span><span style=\"color: #800080; text-decoration-color: #800080\">MTY2MjYxMjIxN3xEdi1CQkFFQ180SUFBUkFCRUFBQU52LUNBQU1HYzNSeWFXNW5EQVlBQkVkV…</span> <span style=\"color: #000080; text-decoration-color: #000080\">│</span>\n",
       "<span style=\"color: #000080; text-decoration-color: #000080\">│</span>                         <span style=\"color: #000000; text-decoration-color: #000000\">for colorado.rstudio.com </span><span style=\"color: #800080; text-decoration-color: #800080\">/</span><span style=\"font-weight: bold\">&gt;]</span>&gt;                                                           <span style=\"color: #000080; text-decoration-color: #000080\">│</span>\n",
       "<span style=\"color: #000080; text-decoration-color: #000080\">│</span>      <span style=\"color: #808000; text-decoration-color: #808000; font-style: italic\">default_encoding</span> = <span style=\"color: #008000; text-decoration-color: #008000\">'utf-8'</span>                                                                                 <span style=\"color: #000080; text-decoration-color: #000080\">│</span>\n",
       "<span style=\"color: #000080; text-decoration-color: #000080\">│</span>               <span style=\"color: #808000; text-decoration-color: #808000; font-style: italic\">elapsed</span> = <span style=\"color: #800080; text-decoration-color: #800080; font-weight: bold\">datetime.timedelta</span><span style=\"font-weight: bold\">(</span><span style=\"color: #808000; text-decoration-color: #808000\">microseconds</span>=<span style=\"color: #008080; text-decoration-color: #008080; font-weight: bold\">440387</span><span style=\"font-weight: bold\">)</span>                                                 <span style=\"color: #000080; text-decoration-color: #000080\">│</span>\n",
       "<span style=\"color: #000080; text-decoration-color: #000080\">│</span>              <span style=\"color: #808000; text-decoration-color: #808000; font-style: italic\">encoding</span> = <span style=\"color: #008000; text-decoration-color: #008000\">'utf-8'</span>                                                                                 <span style=\"color: #000080; text-decoration-color: #000080\">│</span>\n",
       "<span style=\"color: #000080; text-decoration-color: #000080\">│</span>            <span style=\"color: #808000; text-decoration-color: #808000; font-style: italic\">extensions</span> = <span style=\"font-weight: bold\">{</span>                                                                                       <span style=\"color: #000080; text-decoration-color: #000080\">│</span>\n",
       "<span style=\"color: #000080; text-decoration-color: #000080\">│</span>                             <span style=\"color: #008000; text-decoration-color: #008000\">'http_version'</span>: <span style=\"color: #008000; text-decoration-color: #008000\">b'HTTP/1.1'</span>,                                                        <span style=\"color: #000080; text-decoration-color: #000080\">│</span>\n",
       "<span style=\"color: #000080; text-decoration-color: #000080\">│</span>                             <span style=\"color: #008000; text-decoration-color: #008000\">'reason_phrase'</span>: <span style=\"color: #008000; text-decoration-color: #008000\">b'Not Found'</span>,                                                      <span style=\"color: #000080; text-decoration-color: #000080\">│</span>\n",
       "<span style=\"color: #000080; text-decoration-color: #000080\">│</span>                             <span style=\"color: #008000; text-decoration-color: #008000\">'network_stream'</span>: <span style=\"font-weight: bold\">&lt;</span><span style=\"color: #ff00ff; text-decoration-color: #ff00ff; font-weight: bold\">httpcore.backends.sync.SyncStream</span><span style=\"color: #000000; text-decoration-color: #000000\"> object at </span><span style=\"color: #008080; text-decoration-color: #008080; font-weight: bold\">0x10cecf4c0</span><span style=\"font-weight: bold\">&gt;</span>         <span style=\"color: #000080; text-decoration-color: #000080\">│</span>\n",
       "<span style=\"color: #000080; text-decoration-color: #000080\">│</span>                         <span style=\"font-weight: bold\">}</span>                                                                                       <span style=\"color: #000080; text-decoration-color: #000080\">│</span>\n",
       "<span style=\"color: #000080; text-decoration-color: #000080\">│</span> <span style=\"color: #808000; text-decoration-color: #808000; font-style: italic\">has_redirect_location</span> = <span style=\"color: #ff0000; text-decoration-color: #ff0000; font-style: italic\">False</span>                                                                                   <span style=\"color: #000080; text-decoration-color: #000080\">│</span>\n",
       "<span style=\"color: #000080; text-decoration-color: #000080\">│</span>               <span style=\"color: #808000; text-decoration-color: #808000; font-style: italic\">headers</span> = <span style=\"color: #800080; text-decoration-color: #800080; font-weight: bold\">Headers</span><span style=\"font-weight: bold\">([(</span><span style=\"color: #008000; text-decoration-color: #008000\">'content-length'</span>, <span style=\"color: #008000; text-decoration-color: #008000\">'18'</span><span style=\"font-weight: bold\">)</span>, <span style=\"font-weight: bold\">(</span><span style=\"color: #008000; text-decoration-color: #008000\">'content-type'</span>, <span style=\"color: #008000; text-decoration-color: #008000\">'text/plain'</span><span style=\"font-weight: bold\">)</span>, <span style=\"font-weight: bold\">(</span><span style=\"color: #008000; text-decoration-color: #008000\">'date'</span>, <span style=\"color: #008000; text-decoration-color: #008000\">'Thu, 08 </span>   <span style=\"color: #000080; text-decoration-color: #000080\">│</span>\n",
       "<span style=\"color: #000080; text-decoration-color: #000080\">│</span>                         <span style=\"color: #008000; text-decoration-color: #008000\">Sep 2022 04:43:37 GMT'</span><span style=\"font-weight: bold\">)</span>, <span style=\"font-weight: bold\">(</span><span style=\"color: #008000; text-decoration-color: #008000\">'server'</span>, <span style=\"color: #008000; text-decoration-color: #008000\">'nginx/1.23.1'</span><span style=\"font-weight: bold\">)</span>, <span style=\"font-weight: bold\">(</span><span style=\"color: #008000; text-decoration-color: #008000\">'set-cookie'</span>,                     <span style=\"color: #000080; text-decoration-color: #000080\">│</span>\n",
       "<span style=\"color: #000080; text-decoration-color: #000080\">│</span>                         <span style=\"color: #008000; text-decoration-color: #008000\">'colorado-rsc=4ac027405a0561f8; Path=/; HttpOnly; Secure; SameSite=None'</span><span style=\"font-weight: bold\">)</span>,              <span style=\"color: #000080; text-decoration-color: #000080\">│</span>\n",
       "<span style=\"color: #000080; text-decoration-color: #000080\">│</span>                         <span style=\"font-weight: bold\">(</span><span style=\"color: #008000; text-decoration-color: #008000\">'set-cookie'</span>,                                                                          <span style=\"color: #000080; text-decoration-color: #000080\">│</span>\n",
       "<span style=\"color: #000080; text-decoration-color: #000080\">│</span>                         <span style=\"color: #008000; text-decoration-color: #008000\">'rscid=MTY2MjYxMjIxN3xEdi1CQkFFQ180SUFBUkFCRUFBQU52LUNBQU1HYzNSeWFXNW5EQVlBQkVkVlNVUVN…</span> <span style=\"color: #000080; text-decoration-color: #000080\">│</span>\n",
       "<span style=\"color: #000080; text-decoration-color: #000080\">│</span>                         <span style=\"color: #008000; text-decoration-color: #008000\">Path=/; Expires=Thu, 15 Sep 2022 04:43:37 GMT; Max-Age=604800; HttpOnly; Secure; </span>       <span style=\"color: #000080; text-decoration-color: #000080\">│</span>\n",
       "<span style=\"color: #000080; text-decoration-color: #000080\">│</span>                         <span style=\"color: #008000; text-decoration-color: #008000\">SameSite=None'</span><span style=\"font-weight: bold\">)</span>, <span style=\"font-weight: bold\">(</span><span style=\"color: #008000; text-decoration-color: #008000\">'set-cookie'</span>,                                                         <span style=\"color: #000080; text-decoration-color: #000080\">│</span>\n",
       "<span style=\"color: #000080; text-decoration-color: #000080\">│</span>                         <span style=\"color: #008000; text-decoration-color: #008000\">'rscid-legacy=MTY2MjYxMjIxN3xEdi1CQkFFQ180SUFBUkFCRUFBQU52LUNBQU1HYzNSeWFXNW5EQVlBQkVk…</span> <span style=\"color: #000080; text-decoration-color: #000080\">│</span>\n",
       "<span style=\"color: #000080; text-decoration-color: #000080\">│</span>                         <span style=\"color: #008000; text-decoration-color: #008000\">Path=/; Expires=Thu, 15 Sep 2022 04:43:37 GMT; Max-Age=604800; HttpOnly; Secure'</span><span style=\"font-weight: bold\">)</span>,      <span style=\"color: #000080; text-decoration-color: #000080\">│</span>\n",
       "<span style=\"color: #000080; text-decoration-color: #000080\">│</span>                         <span style=\"font-weight: bold\">(</span><span style=\"color: #008000; text-decoration-color: #008000\">'strict-transport-security'</span>, <span style=\"color: #008000; text-decoration-color: #008000\">'max-age=2592000'</span><span style=\"font-weight: bold\">)</span>, <span style=\"font-weight: bold\">(</span><span style=\"color: #008000; text-decoration-color: #008000\">'x-content-type-options'</span>,            <span style=\"color: #000080; text-decoration-color: #000080\">│</span>\n",
       "<span style=\"color: #000080; text-decoration-color: #000080\">│</span>                         <span style=\"color: #008000; text-decoration-color: #008000\">'nosniff'</span><span style=\"font-weight: bold\">)</span>, <span style=\"font-weight: bold\">(</span><span style=\"color: #008000; text-decoration-color: #008000\">'x-correlation-id'</span>, <span style=\"color: #008000; text-decoration-color: #008000\">'3848b6fa-8d25-433e-aa24-30e9d78c776b'</span><span style=\"font-weight: bold\">)</span>,               <span style=\"color: #000080; text-decoration-color: #000080\">│</span>\n",
       "<span style=\"color: #000080; text-decoration-color: #000080\">│</span>                         <span style=\"font-weight: bold\">(</span><span style=\"color: #008000; text-decoration-color: #008000\">'x-frame-options'</span>, <span style=\"color: #008000; text-decoration-color: #008000\">'DENY'</span><span style=\"font-weight: bold\">)])</span>                                                           <span style=\"color: #000080; text-decoration-color: #000080\">│</span>\n",
       "<span style=\"color: #000080; text-decoration-color: #000080\">│</span>               <span style=\"color: #808000; text-decoration-color: #808000; font-style: italic\">history</span> = <span style=\"font-weight: bold\">[]</span>                                                                                      <span style=\"color: #000080; text-decoration-color: #000080\">│</span>\n",
       "<span style=\"color: #000080; text-decoration-color: #000080\">│</span>          <span style=\"color: #808000; text-decoration-color: #808000; font-style: italic\">http_version</span> = <span style=\"color: #008000; text-decoration-color: #008000\">'HTTP/1.1'</span>                                                                              <span style=\"color: #000080; text-decoration-color: #000080\">│</span>\n",
       "<span style=\"color: #000080; text-decoration-color: #000080\">│</span>       <span style=\"color: #808000; text-decoration-color: #808000; font-style: italic\">is_client_error</span> = <span style=\"color: #00ff00; text-decoration-color: #00ff00; font-style: italic\">True</span>                                                                                    <span style=\"color: #000080; text-decoration-color: #000080\">│</span>\n",
       "<span style=\"color: #000080; text-decoration-color: #000080\">│</span>             <span style=\"color: #808000; text-decoration-color: #808000; font-style: italic\">is_closed</span> = <span style=\"color: #00ff00; text-decoration-color: #00ff00; font-style: italic\">True</span>                                                                                    <span style=\"color: #000080; text-decoration-color: #000080\">│</span>\n",
       "<span style=\"color: #000080; text-decoration-color: #000080\">│</span>              <span style=\"color: #808000; text-decoration-color: #808000; font-style: italic\">is_error</span> = <span style=\"color: #00ff00; text-decoration-color: #00ff00; font-style: italic\">True</span>                                                                                    <span style=\"color: #000080; text-decoration-color: #000080\">│</span>\n",
       "<span style=\"color: #000080; text-decoration-color: #000080\">│</span>      <span style=\"color: #808000; text-decoration-color: #808000; font-style: italic\">is_informational</span> = <span style=\"color: #ff0000; text-decoration-color: #ff0000; font-style: italic\">False</span>                                                                                   <span style=\"color: #000080; text-decoration-color: #000080\">│</span>\n",
       "<span style=\"color: #000080; text-decoration-color: #000080\">│</span>           <span style=\"color: #808000; text-decoration-color: #808000; font-style: italic\">is_redirect</span> = <span style=\"color: #ff0000; text-decoration-color: #ff0000; font-style: italic\">False</span>                                                                                   <span style=\"color: #000080; text-decoration-color: #000080\">│</span>\n",
       "<span style=\"color: #000080; text-decoration-color: #000080\">│</span>       <span style=\"color: #808000; text-decoration-color: #808000; font-style: italic\">is_server_error</span> = <span style=\"color: #ff0000; text-decoration-color: #ff0000; font-style: italic\">False</span>                                                                                   <span style=\"color: #000080; text-decoration-color: #000080\">│</span>\n",
       "<span style=\"color: #000080; text-decoration-color: #000080\">│</span>    <span style=\"color: #808000; text-decoration-color: #808000; font-style: italic\">is_stream_consumed</span> = <span style=\"color: #00ff00; text-decoration-color: #00ff00; font-style: italic\">True</span>                                                                                    <span style=\"color: #000080; text-decoration-color: #000080\">│</span>\n",
       "<span style=\"color: #000080; text-decoration-color: #000080\">│</span>            <span style=\"color: #808000; text-decoration-color: #808000; font-style: italic\">is_success</span> = <span style=\"color: #ff0000; text-decoration-color: #ff0000; font-style: italic\">False</span>                                                                                   <span style=\"color: #000080; text-decoration-color: #000080\">│</span>\n",
       "<span style=\"color: #000080; text-decoration-color: #000080\">│</span>                 <span style=\"color: #808000; text-decoration-color: #808000; font-style: italic\">links</span> = <span style=\"font-weight: bold\">{}</span>                                                                                      <span style=\"color: #000080; text-decoration-color: #000080\">│</span>\n",
       "<span style=\"color: #000080; text-decoration-color: #000080\">│</span>          <span style=\"color: #808000; text-decoration-color: #808000; font-style: italic\">next_request</span> = <span style=\"color: #800080; text-decoration-color: #800080; font-style: italic\">None</span>                                                                                    <span style=\"color: #000080; text-decoration-color: #000080\">│</span>\n",
       "<span style=\"color: #000080; text-decoration-color: #000080\">│</span>  <span style=\"color: #808000; text-decoration-color: #808000; font-style: italic\">num_bytes_downloaded</span> = <span style=\"color: #008080; text-decoration-color: #008080; font-weight: bold\">18</span>                                                                                      <span style=\"color: #000080; text-decoration-color: #000080\">│</span>\n",
       "<span style=\"color: #000080; text-decoration-color: #000080\">│</span>         <span style=\"color: #808000; text-decoration-color: #808000; font-style: italic\">reason_phrase</span> = <span style=\"color: #008000; text-decoration-color: #008000\">'Not Found'</span>                                                                             <span style=\"color: #000080; text-decoration-color: #000080\">│</span>\n",
       "<span style=\"color: #000080; text-decoration-color: #000080\">│</span>               <span style=\"color: #808000; text-decoration-color: #808000; font-style: italic\">request</span> = <span style=\"font-weight: bold\">&lt;</span><span style=\"color: #800080; text-decoration-color: #800080; font-weight: bold\">Request</span><span style=\"color: #000000; text-decoration-color: #000000; font-weight: bold\">(</span><span style=\"color: #008000; text-decoration-color: #008000\">'GET'</span><span style=\"color: #000000; text-decoration-color: #000000\">, </span><span style=\"color: #008000; text-decoration-color: #008000\">'https://colorado.rstudio.com/rsc/__api__/v1/openapi'</span><span style=\"color: #000000; text-decoration-color: #000000; font-weight: bold\">)</span><span style=\"font-weight: bold\">&gt;</span>                 <span style=\"color: #000080; text-decoration-color: #000080\">│</span>\n",
       "<span style=\"color: #000080; text-decoration-color: #000080\">│</span>           <span style=\"color: #808000; text-decoration-color: #808000; font-style: italic\">status_code</span> = <span style=\"color: #008080; text-decoration-color: #008080; font-weight: bold\">404</span>                                                                                     <span style=\"color: #000080; text-decoration-color: #000080\">│</span>\n",
       "<span style=\"color: #000080; text-decoration-color: #000080\">│</span>                <span style=\"color: #808000; text-decoration-color: #808000; font-style: italic\">stream</span> = <span style=\"font-weight: bold\">&lt;</span><span style=\"color: #ff00ff; text-decoration-color: #ff00ff; font-weight: bold\">httpx._client.BoundSyncStream</span><span style=\"color: #000000; text-decoration-color: #000000\"> object at </span><span style=\"color: #008080; text-decoration-color: #008080; font-weight: bold\">0x10ccdb310</span><span style=\"font-weight: bold\">&gt;</span>                                   <span style=\"color: #000080; text-decoration-color: #000080\">│</span>\n",
       "<span style=\"color: #000080; text-decoration-color: #000080\">│</span>                  <span style=\"color: #808000; text-decoration-color: #808000; font-style: italic\">text</span> = <span style=\"color: #008000; text-decoration-color: #008000\">'404 page not found'</span>                                                                    <span style=\"color: #000080; text-decoration-color: #000080\">│</span>\n",
       "<span style=\"color: #000080; text-decoration-color: #000080\">│</span>                   <span style=\"color: #808000; text-decoration-color: #808000; font-style: italic\">url</span> = <span style=\"color: #800080; text-decoration-color: #800080; font-weight: bold\">URL</span><span style=\"font-weight: bold\">(</span><span style=\"color: #008000; text-decoration-color: #008000\">'https://colorado.rstudio.com/rsc/__api__/v1/openapi'</span><span style=\"font-weight: bold\">)</span>                              <span style=\"color: #000080; text-decoration-color: #000080\">│</span>\n",
       "<span style=\"color: #000080; text-decoration-color: #000080\">╰─────────────────────────────────────────────────────────────────────────────────────────────────────────────────╯</span>\n",
       "</pre>\n"
      ],
      "text/plain": [
       "\u001b[34m╭─\u001b[0m\u001b[34m────────────────────────────────────────── \u001b[0m\u001b[1;34m<\u001b[0m\u001b[1;95mclass\u001b[0m\u001b[39m \u001b[0m\u001b[32m'httpx.Response'\u001b[0m\u001b[1;34m>\u001b[0m\u001b[34m ───────────────────────────────────────────\u001b[0m\u001b[34m─╮\u001b[0m\n",
       "\u001b[34m│\u001b[0m \u001b[32m╭─────────────────────────────────────────────────────────────────────────────────────────────────────────────╮\u001b[0m \u001b[34m│\u001b[0m\n",
       "\u001b[34m│\u001b[0m \u001b[32m│\u001b[0m \u001b[1m<\u001b[0m\u001b[1;95mResponse\u001b[0m\u001b[39m \u001b[0m\u001b[1;39m[\u001b[0m\u001b[1;36m404\u001b[0m\u001b[39m Not Found\u001b[0m\u001b[1;39m]\u001b[0m\u001b[1m>\u001b[0m                                                                                  \u001b[32m│\u001b[0m \u001b[34m│\u001b[0m\n",
       "\u001b[34m│\u001b[0m \u001b[32m╰─────────────────────────────────────────────────────────────────────────────────────────────────────────────╯\u001b[0m \u001b[34m│\u001b[0m\n",
       "\u001b[34m│\u001b[0m                                                                                                                 \u001b[34m│\u001b[0m\n",
       "\u001b[34m│\u001b[0m      \u001b[3;33mcharset_encoding\u001b[0m = \u001b[3;35mNone\u001b[0m                                                                                    \u001b[34m│\u001b[0m\n",
       "\u001b[34m│\u001b[0m               \u001b[3;33mcontent\u001b[0m = \u001b[32mb'404 page not found'\u001b[0m                                                                   \u001b[34m│\u001b[0m\n",
       "\u001b[34m│\u001b[0m               \u001b[3;33mcookies\u001b[0m = \u001b[1m<\u001b[0m\u001b[1;95mCookies\u001b[0m\u001b[1;39m[\u001b[0m\u001b[39m<Cookie colorado-\u001b[0m\u001b[33mrsc\u001b[0m\u001b[39m=\u001b[0m\u001b[35m4ac027405a0561f8\u001b[0m\u001b[39m for colorado.rstudio.com \u001b[0m\u001b[35m/\u001b[0m\u001b[1m>\u001b[0m, \u001b[1m<\u001b[0m\u001b[1;95mCookie\u001b[0m\u001b[39m \u001b[0m    \u001b[34m│\u001b[0m\n",
       "\u001b[34m│\u001b[0m                         \u001b[33mrscid\u001b[0m\u001b[39m=\u001b[0m\u001b[35mMTY2MjYxMjIxN3xEdi1CQkFFQ180SUFBUkFCRUFBQU52LUNBQU1HYzNSeWFXNW5EQVlBQkVkVlNVUVNZ…\u001b[0m \u001b[34m│\u001b[0m\n",
       "\u001b[34m│\u001b[0m                         \u001b[39mfor colorado.rstudio.com \u001b[0m\u001b[35m/\u001b[0m\u001b[1m>\u001b[0m, \u001b[1m<\u001b[0m\u001b[1;95mCookie\u001b[0m\u001b[39m \u001b[0m                                                   \u001b[34m│\u001b[0m\n",
       "\u001b[34m│\u001b[0m                         \u001b[39mrscid-\u001b[0m\u001b[33mlegacy\u001b[0m\u001b[39m=\u001b[0m\u001b[35mMTY2MjYxMjIxN3xEdi1CQkFFQ180SUFBUkFCRUFBQU52LUNBQU1HYzNSeWFXNW5EQVlBQkVkV…\u001b[0m \u001b[34m│\u001b[0m\n",
       "\u001b[34m│\u001b[0m                         \u001b[39mfor colorado.rstudio.com \u001b[0m\u001b[35m/\u001b[0m\u001b[1m>\u001b[0m\u001b[1m]\u001b[0m>                                                           \u001b[34m│\u001b[0m\n",
       "\u001b[34m│\u001b[0m      \u001b[3;33mdefault_encoding\u001b[0m = \u001b[32m'utf-8'\u001b[0m                                                                                 \u001b[34m│\u001b[0m\n",
       "\u001b[34m│\u001b[0m               \u001b[3;33melapsed\u001b[0m = \u001b[1;35mdatetime.timedelta\u001b[0m\u001b[1m(\u001b[0m\u001b[33mmicroseconds\u001b[0m=\u001b[1;36m440387\u001b[0m\u001b[1m)\u001b[0m                                                 \u001b[34m│\u001b[0m\n",
       "\u001b[34m│\u001b[0m              \u001b[3;33mencoding\u001b[0m = \u001b[32m'utf-8'\u001b[0m                                                                                 \u001b[34m│\u001b[0m\n",
       "\u001b[34m│\u001b[0m            \u001b[3;33mextensions\u001b[0m = \u001b[1m{\u001b[0m                                                                                       \u001b[34m│\u001b[0m\n",
       "\u001b[34m│\u001b[0m                             \u001b[32m'http_version'\u001b[0m: \u001b[32mb'HTTP/1.1'\u001b[0m,                                                        \u001b[34m│\u001b[0m\n",
       "\u001b[34m│\u001b[0m                             \u001b[32m'reason_phrase'\u001b[0m: \u001b[32mb'Not Found'\u001b[0m,                                                      \u001b[34m│\u001b[0m\n",
       "\u001b[34m│\u001b[0m                             \u001b[32m'network_stream'\u001b[0m: \u001b[1m<\u001b[0m\u001b[1;95mhttpcore.backends.sync.SyncStream\u001b[0m\u001b[39m object at \u001b[0m\u001b[1;36m0x10cecf4c0\u001b[0m\u001b[1m>\u001b[0m         \u001b[34m│\u001b[0m\n",
       "\u001b[34m│\u001b[0m                         \u001b[1m}\u001b[0m                                                                                       \u001b[34m│\u001b[0m\n",
       "\u001b[34m│\u001b[0m \u001b[3;33mhas_redirect_location\u001b[0m = \u001b[3;91mFalse\u001b[0m                                                                                   \u001b[34m│\u001b[0m\n",
       "\u001b[34m│\u001b[0m               \u001b[3;33mheaders\u001b[0m = \u001b[1;35mHeaders\u001b[0m\u001b[1m(\u001b[0m\u001b[1m[\u001b[0m\u001b[1m(\u001b[0m\u001b[32m'content-length'\u001b[0m, \u001b[32m'18'\u001b[0m\u001b[1m)\u001b[0m, \u001b[1m(\u001b[0m\u001b[32m'content-type'\u001b[0m, \u001b[32m'text/plain'\u001b[0m\u001b[1m)\u001b[0m, \u001b[1m(\u001b[0m\u001b[32m'date'\u001b[0m, \u001b[32m'Thu, 08 \u001b[0m   \u001b[34m│\u001b[0m\n",
       "\u001b[34m│\u001b[0m                         \u001b[32mSep 2022 04:43:37 GMT'\u001b[0m\u001b[1m)\u001b[0m, \u001b[1m(\u001b[0m\u001b[32m'server'\u001b[0m, \u001b[32m'nginx/1.23.1'\u001b[0m\u001b[1m)\u001b[0m, \u001b[1m(\u001b[0m\u001b[32m'set-cookie'\u001b[0m,                     \u001b[34m│\u001b[0m\n",
       "\u001b[34m│\u001b[0m                         \u001b[32m'colorado-\u001b[0m\u001b[32mrsc\u001b[0m\u001b[32m=\u001b[0m\u001b[32m4ac027405a0561f8\u001b[0m\u001b[32m; \u001b[0m\u001b[32mPath\u001b[0m\u001b[32m=/; HttpOnly; Secure; \u001b[0m\u001b[32mSameSite\u001b[0m\u001b[32m=\u001b[0m\u001b[32mNone\u001b[0m\u001b[32m'\u001b[0m\u001b[1m)\u001b[0m,              \u001b[34m│\u001b[0m\n",
       "\u001b[34m│\u001b[0m                         \u001b[1m(\u001b[0m\u001b[32m'set-cookie'\u001b[0m,                                                                          \u001b[34m│\u001b[0m\n",
       "\u001b[34m│\u001b[0m                         \u001b[32m'\u001b[0m\u001b[32mrscid\u001b[0m\u001b[32m=\u001b[0m\u001b[32mMTY2MjYxMjIxN3xEdi1CQkFFQ180SUFBUkFCRUFBQU52LUNBQU1HYzNSeWFXNW5EQVlBQkVkVlNVUVN…\u001b[0m \u001b[34m│\u001b[0m\n",
       "\u001b[34m│\u001b[0m                         \u001b[32mPath\u001b[0m\u001b[32m=/; \u001b[0m\u001b[32mExpires\u001b[0m\u001b[32m=\u001b[0m\u001b[32mThu\u001b[0m\u001b[32m, 15 Sep 2022 04:43:37 GMT; Max-\u001b[0m\u001b[32mAge\u001b[0m\u001b[32m=\u001b[0m\u001b[32m604800\u001b[0m\u001b[32m; HttpOnly; Secure; \u001b[0m       \u001b[34m│\u001b[0m\n",
       "\u001b[34m│\u001b[0m                         \u001b[32mSameSite\u001b[0m\u001b[32m=\u001b[0m\u001b[32mNone\u001b[0m\u001b[32m'\u001b[0m\u001b[1m)\u001b[0m, \u001b[1m(\u001b[0m\u001b[32m'set-cookie'\u001b[0m,                                                         \u001b[34m│\u001b[0m\n",
       "\u001b[34m│\u001b[0m                         \u001b[32m'rscid-\u001b[0m\u001b[32mlegacy\u001b[0m\u001b[32m=\u001b[0m\u001b[32mMTY2MjYxMjIxN3xEdi1CQkFFQ180SUFBUkFCRUFBQU52LUNBQU1HYzNSeWFXNW5EQVlBQkVk…\u001b[0m \u001b[34m│\u001b[0m\n",
       "\u001b[34m│\u001b[0m                         \u001b[32mPath\u001b[0m\u001b[32m=/; \u001b[0m\u001b[32mExpires\u001b[0m\u001b[32m=\u001b[0m\u001b[32mThu\u001b[0m\u001b[32m, 15 Sep 2022 04:43:37 GMT; Max-\u001b[0m\u001b[32mAge\u001b[0m\u001b[32m=\u001b[0m\u001b[32m604800\u001b[0m\u001b[32m; HttpOnly; Secure'\u001b[0m\u001b[1m)\u001b[0m,      \u001b[34m│\u001b[0m\n",
       "\u001b[34m│\u001b[0m                         \u001b[1m(\u001b[0m\u001b[32m'strict-transport-security'\u001b[0m, \u001b[32m'max-\u001b[0m\u001b[32mage\u001b[0m\u001b[32m=\u001b[0m\u001b[32m2592000\u001b[0m\u001b[32m'\u001b[0m\u001b[1m)\u001b[0m, \u001b[1m(\u001b[0m\u001b[32m'x-content-type-options'\u001b[0m,            \u001b[34m│\u001b[0m\n",
       "\u001b[34m│\u001b[0m                         \u001b[32m'nosniff'\u001b[0m\u001b[1m)\u001b[0m, \u001b[1m(\u001b[0m\u001b[32m'x-correlation-id'\u001b[0m, \u001b[32m'3848b6fa-8d25-433e-aa24-30e9d78c776b'\u001b[0m\u001b[1m)\u001b[0m,               \u001b[34m│\u001b[0m\n",
       "\u001b[34m│\u001b[0m                         \u001b[1m(\u001b[0m\u001b[32m'x-frame-options'\u001b[0m, \u001b[32m'DENY'\u001b[0m\u001b[1m)\u001b[0m\u001b[1m]\u001b[0m\u001b[1m)\u001b[0m                                                           \u001b[34m│\u001b[0m\n",
       "\u001b[34m│\u001b[0m               \u001b[3;33mhistory\u001b[0m = \u001b[1m[\u001b[0m\u001b[1m]\u001b[0m                                                                                      \u001b[34m│\u001b[0m\n",
       "\u001b[34m│\u001b[0m          \u001b[3;33mhttp_version\u001b[0m = \u001b[32m'HTTP/1.1'\u001b[0m                                                                              \u001b[34m│\u001b[0m\n",
       "\u001b[34m│\u001b[0m       \u001b[3;33mis_client_error\u001b[0m = \u001b[3;92mTrue\u001b[0m                                                                                    \u001b[34m│\u001b[0m\n",
       "\u001b[34m│\u001b[0m             \u001b[3;33mis_closed\u001b[0m = \u001b[3;92mTrue\u001b[0m                                                                                    \u001b[34m│\u001b[0m\n",
       "\u001b[34m│\u001b[0m              \u001b[3;33mis_error\u001b[0m = \u001b[3;92mTrue\u001b[0m                                                                                    \u001b[34m│\u001b[0m\n",
       "\u001b[34m│\u001b[0m      \u001b[3;33mis_informational\u001b[0m = \u001b[3;91mFalse\u001b[0m                                                                                   \u001b[34m│\u001b[0m\n",
       "\u001b[34m│\u001b[0m           \u001b[3;33mis_redirect\u001b[0m = \u001b[3;91mFalse\u001b[0m                                                                                   \u001b[34m│\u001b[0m\n",
       "\u001b[34m│\u001b[0m       \u001b[3;33mis_server_error\u001b[0m = \u001b[3;91mFalse\u001b[0m                                                                                   \u001b[34m│\u001b[0m\n",
       "\u001b[34m│\u001b[0m    \u001b[3;33mis_stream_consumed\u001b[0m = \u001b[3;92mTrue\u001b[0m                                                                                    \u001b[34m│\u001b[0m\n",
       "\u001b[34m│\u001b[0m            \u001b[3;33mis_success\u001b[0m = \u001b[3;91mFalse\u001b[0m                                                                                   \u001b[34m│\u001b[0m\n",
       "\u001b[34m│\u001b[0m                 \u001b[3;33mlinks\u001b[0m = \u001b[1m{\u001b[0m\u001b[1m}\u001b[0m                                                                                      \u001b[34m│\u001b[0m\n",
       "\u001b[34m│\u001b[0m          \u001b[3;33mnext_request\u001b[0m = \u001b[3;35mNone\u001b[0m                                                                                    \u001b[34m│\u001b[0m\n",
       "\u001b[34m│\u001b[0m  \u001b[3;33mnum_bytes_downloaded\u001b[0m = \u001b[1;36m18\u001b[0m                                                                                      \u001b[34m│\u001b[0m\n",
       "\u001b[34m│\u001b[0m         \u001b[3;33mreason_phrase\u001b[0m = \u001b[32m'Not Found'\u001b[0m                                                                             \u001b[34m│\u001b[0m\n",
       "\u001b[34m│\u001b[0m               \u001b[3;33mrequest\u001b[0m = \u001b[1m<\u001b[0m\u001b[1;35mRequest\u001b[0m\u001b[1;39m(\u001b[0m\u001b[32m'GET'\u001b[0m\u001b[39m, \u001b[0m\u001b[32m'https://colorado.rstudio.com/rsc/__api__/v1/openapi'\u001b[0m\u001b[1;39m)\u001b[0m\u001b[1m>\u001b[0m                 \u001b[34m│\u001b[0m\n",
       "\u001b[34m│\u001b[0m           \u001b[3;33mstatus_code\u001b[0m = \u001b[1;36m404\u001b[0m                                                                                     \u001b[34m│\u001b[0m\n",
       "\u001b[34m│\u001b[0m                \u001b[3;33mstream\u001b[0m = \u001b[1m<\u001b[0m\u001b[1;95mhttpx._client.BoundSyncStream\u001b[0m\u001b[39m object at \u001b[0m\u001b[1;36m0x10ccdb310\u001b[0m\u001b[1m>\u001b[0m                                   \u001b[34m│\u001b[0m\n",
       "\u001b[34m│\u001b[0m                  \u001b[3;33mtext\u001b[0m = \u001b[32m'404 page not found'\u001b[0m                                                                    \u001b[34m│\u001b[0m\n",
       "\u001b[34m│\u001b[0m                   \u001b[3;33murl\u001b[0m = \u001b[1;35mURL\u001b[0m\u001b[1m(\u001b[0m\u001b[32m'https://colorado.rstudio.com/rsc/__api__/v1/openapi'\u001b[0m\u001b[1m)\u001b[0m                              \u001b[34m│\u001b[0m\n",
       "\u001b[34m╰─────────────────────────────────────────────────────────────────────────────────────────────────────────────────╯\u001b[0m\n"
      ]
     },
     "metadata": {},
     "output_type": "display_data"
    }
   ],
   "source": [
    "r = api._call(\"/openapi\")\n",
    "inspect(r)"
   ]
  },
  {
   "cell_type": "code",
   "execution_count": null,
   "metadata": {},
   "outputs": [],
   "source": [
    "r = api.content.get_content(owner_guid=\"d03a6b7a-c818-4e40-8ef9-84ca567f9671\")\n",
    "# print(r)\n",
    "isinstance(r, list)\n",
    "isinstance(r[0], models.content.Content)"
   ]
  },
  {
   "cell_type": "code",
   "execution_count": null,
   "metadata": {},
   "outputs": [],
   "source": [
    "isinstance(1, int)"
   ]
  },
  {
   "cell_type": "code",
   "execution_count": null,
   "metadata": {},
   "outputs": [],
   "source": [
    "r"
   ]
  },
  {
   "cell_type": "code",
   "execution_count": null,
   "metadata": {},
   "outputs": [],
   "source": []
  }
 ],
 "metadata": {
  "kernelspec": {
   "display_name": "Python 3.9.12 ('.venv': poetry)",
   "language": "python",
   "name": "python3"
  },
  "language_info": {
   "codemirror_mode": {
    "name": "ipython",
    "version": 3
   },
   "file_extension": ".py",
   "mimetype": "text/x-python",
   "name": "python",
   "nbconvert_exporter": "python",
   "pygments_lexer": "ipython3",
   "version": "3.9.12"
  },
  "orig_nbformat": 4,
  "vscode": {
   "interpreter": {
    "hash": "cf9e35367ee901c2a8ccb3be767adeb977483f64b12902f3335a32fc43a8b974"
   }
  }
 },
 "nbformat": 4,
 "nbformat_minor": 2
}
