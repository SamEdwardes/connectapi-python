{
 "cells": [
  {
   "cell_type": "code",
   "execution_count": 2,
   "metadata": {},
   "outputs": [
    {
     "name": "stdout",
     "output_type": "stream",
     "text": [
      "Initiating client\n"
     ]
    },
    {
     "data": {
      "text/html": [
       "<pre style=\"white-space:pre;overflow-x:auto;line-height:normal;font-family:Menlo,'DejaVu Sans Mono',consolas,'Courier New',monospace\"><span style=\"color: #800080; text-decoration-color: #800080; font-weight: bold\">Content</span><span style=\"font-weight: bold\">(</span>\n",
       "    <span style=\"color: #808000; text-decoration-color: #808000\">guid</span>=<span style=\"color: #008000; text-decoration-color: #008000\">'241fe2cd-6eba-4a79-9aa3-6e6fe28c5714'</span>,\n",
       "    <span style=\"color: #808000; text-decoration-color: #808000\">name</span>=<span style=\"color: #008000; text-decoration-color: #008000\">'Jupyter-Notebook---Palmer-Penguins-1662582421920'</span>,\n",
       "    <span style=\"color: #808000; text-decoration-color: #808000\">title</span>=<span style=\"color: #008000; text-decoration-color: #008000\">'Jupyter Notebook - Palmer Penguins'</span>,\n",
       "    <span style=\"color: #808000; text-decoration-color: #808000\">description</span>=<span style=\"color: #008000; text-decoration-color: #008000\">''</span>,\n",
       "    <span style=\"color: #808000; text-decoration-color: #808000\">access_type</span>=<span style=\"color: #008000; text-decoration-color: #008000\">'all'</span>,\n",
       "    <span style=\"color: #808000; text-decoration-color: #808000\">connection_timeout</span>=<span style=\"color: #800080; text-decoration-color: #800080; font-style: italic\">None</span>,\n",
       "    <span style=\"color: #808000; text-decoration-color: #808000\">read_timeout</span>=<span style=\"color: #800080; text-decoration-color: #800080; font-style: italic\">None</span>,\n",
       "    <span style=\"color: #808000; text-decoration-color: #808000\">init_timeout</span>=<span style=\"color: #800080; text-decoration-color: #800080; font-style: italic\">None</span>,\n",
       "    <span style=\"color: #808000; text-decoration-color: #808000\">idle_timeout</span>=<span style=\"color: #800080; text-decoration-color: #800080; font-style: italic\">None</span>,\n",
       "    <span style=\"color: #808000; text-decoration-color: #808000\">max_processes</span>=<span style=\"color: #800080; text-decoration-color: #800080; font-style: italic\">None</span>,\n",
       "    <span style=\"color: #808000; text-decoration-color: #808000\">min_processes</span>=<span style=\"color: #800080; text-decoration-color: #800080; font-style: italic\">None</span>,\n",
       "    <span style=\"color: #808000; text-decoration-color: #808000\">max_conns_per_process</span>=<span style=\"color: #800080; text-decoration-color: #800080; font-style: italic\">None</span>,\n",
       "    <span style=\"color: #808000; text-decoration-color: #808000\">load_factor</span>=<span style=\"color: #800080; text-decoration-color: #800080; font-style: italic\">None</span>,\n",
       "    <span style=\"color: #808000; text-decoration-color: #808000\">created_time</span>=<span style=\"color: #800080; text-decoration-color: #800080; font-weight: bold\">datetime</span><span style=\"color: #800080; text-decoration-color: #800080; font-weight: bold\">.datetime</span><span style=\"font-weight: bold\">(</span><span style=\"color: #008080; text-decoration-color: #008080; font-weight: bold\">2022</span>, <span style=\"color: #008080; text-decoration-color: #008080; font-weight: bold\">9</span>, <span style=\"color: #008080; text-decoration-color: #008080; font-weight: bold\">7</span>, <span style=\"color: #008080; text-decoration-color: #008080; font-weight: bold\">20</span>, <span style=\"color: #008080; text-decoration-color: #008080; font-weight: bold\">27</span>, <span style=\"color: #008080; text-decoration-color: #008080; font-weight: bold\">2</span>, <span style=\"color: #808000; text-decoration-color: #808000\">tzinfo</span>=<span style=\"color: #800080; text-decoration-color: #800080\">datetime</span>.timezone.utc<span style=\"font-weight: bold\">)</span>,\n",
       "    <span style=\"color: #808000; text-decoration-color: #808000\">last_deployed_time</span>=<span style=\"color: #800080; text-decoration-color: #800080; font-weight: bold\">datetime</span><span style=\"color: #800080; text-decoration-color: #800080; font-weight: bold\">.datetime</span><span style=\"font-weight: bold\">(</span><span style=\"color: #008080; text-decoration-color: #008080; font-weight: bold\">2022</span>, <span style=\"color: #008080; text-decoration-color: #008080; font-weight: bold\">9</span>, <span style=\"color: #008080; text-decoration-color: #008080; font-weight: bold\">7</span>, <span style=\"color: #008080; text-decoration-color: #008080; font-weight: bold\">20</span>, <span style=\"color: #008080; text-decoration-color: #008080; font-weight: bold\">30</span>, <span style=\"color: #808000; text-decoration-color: #808000\">tzinfo</span>=<span style=\"color: #800080; text-decoration-color: #800080\">datetime</span>.timezone.utc<span style=\"font-weight: bold\">)</span>,\n",
       "    <span style=\"color: #808000; text-decoration-color: #808000\">bundle_id</span>=<span style=\"color: #008000; text-decoration-color: #008000\">'61875'</span>,\n",
       "    <span style=\"color: #808000; text-decoration-color: #808000\">app_mode</span>=<span style=\"color: #008000; text-decoration-color: #008000\">'jupyter-static'</span>,\n",
       "    <span style=\"color: #808000; text-decoration-color: #808000\">content_category</span>=<span style=\"color: #008000; text-decoration-color: #008000\">''</span>,\n",
       "    <span style=\"color: #808000; text-decoration-color: #808000\">parameterized</span>=<span style=\"color: #ff0000; text-decoration-color: #ff0000; font-style: italic\">False</span>,\n",
       "    <span style=\"color: #808000; text-decoration-color: #808000\">cluster_name</span>=<span style=\"color: #008000; text-decoration-color: #008000\">'Kubernetes'</span>,\n",
       "    <span style=\"color: #808000; text-decoration-color: #808000\">image_name</span>=<span style=\"color: #008000; text-decoration-color: #008000\">'ghcr.io/rstudio/content-pro:r4.1.3-py3.10.4-bionic'</span>,\n",
       "    <span style=\"color: #808000; text-decoration-color: #808000\">r_version</span>=<span style=\"color: #800080; text-decoration-color: #800080; font-style: italic\">None</span>,\n",
       "    <span style=\"color: #808000; text-decoration-color: #808000\">py_version</span>=<span style=\"color: #008000; text-decoration-color: #008000\">'3.10.4'</span>,\n",
       "    <span style=\"color: #808000; text-decoration-color: #808000\">quarto_version</span>=<span style=\"color: #800080; text-decoration-color: #800080; font-style: italic\">None</span>,\n",
       "    <span style=\"color: #808000; text-decoration-color: #808000\">run_as</span>=<span style=\"color: #800080; text-decoration-color: #800080; font-style: italic\">None</span>,\n",
       "    <span style=\"color: #808000; text-decoration-color: #808000\">run_as_current_user</span>=<span style=\"color: #ff0000; text-decoration-color: #ff0000; font-style: italic\">False</span>,\n",
       "    <span style=\"color: #808000; text-decoration-color: #808000\">owner_guid</span>=<span style=\"color: #008000; text-decoration-color: #008000\">'d03a6b7a-c818-4e40-8ef9-84ca567f9671'</span>,\n",
       "    <span style=\"color: #808000; text-decoration-color: #808000\">content_url</span>=<span style=\"color: #008000; text-decoration-color: #008000\">'https://colorado.rstudio.com/rsc/content/241fe2cd-6eba-4a79-9aa3-6e6fe28c5714/'</span>,\n",
       "    <span style=\"color: #808000; text-decoration-color: #808000\">dashboard_url</span>=<span style=\"color: #008000; text-decoration-color: #008000\">'https://colorado.rstudio.com/rsc/connect/#/apps/241fe2cd-6eba-4a79-9aa3-6e6fe28c5714'</span>,\n",
       "    <span style=\"color: #808000; text-decoration-color: #808000\">role</span>=<span style=\"color: #800080; text-decoration-color: #800080; font-style: italic\">None</span>,\n",
       "    <span style=\"color: #808000; text-decoration-color: #808000\">id</span>=<span style=\"color: #008000; text-decoration-color: #008000\">'12560'</span>\n",
       "<span style=\"font-weight: bold\">)</span>\n",
       "</pre>\n"
      ],
      "text/plain": [
       "\u001b[1;35mContent\u001b[0m\u001b[1m(\u001b[0m\n",
       "    \u001b[33mguid\u001b[0m=\u001b[32m'241fe2cd-6eba-4a79-9aa3-6e6fe28c5714'\u001b[0m,\n",
       "    \u001b[33mname\u001b[0m=\u001b[32m'Jupyter-Notebook---Palmer-Penguins-1662582421920'\u001b[0m,\n",
       "    \u001b[33mtitle\u001b[0m=\u001b[32m'Jupyter Notebook - Palmer Penguins'\u001b[0m,\n",
       "    \u001b[33mdescription\u001b[0m=\u001b[32m''\u001b[0m,\n",
       "    \u001b[33maccess_type\u001b[0m=\u001b[32m'all'\u001b[0m,\n",
       "    \u001b[33mconnection_timeout\u001b[0m=\u001b[3;35mNone\u001b[0m,\n",
       "    \u001b[33mread_timeout\u001b[0m=\u001b[3;35mNone\u001b[0m,\n",
       "    \u001b[33minit_timeout\u001b[0m=\u001b[3;35mNone\u001b[0m,\n",
       "    \u001b[33midle_timeout\u001b[0m=\u001b[3;35mNone\u001b[0m,\n",
       "    \u001b[33mmax_processes\u001b[0m=\u001b[3;35mNone\u001b[0m,\n",
       "    \u001b[33mmin_processes\u001b[0m=\u001b[3;35mNone\u001b[0m,\n",
       "    \u001b[33mmax_conns_per_process\u001b[0m=\u001b[3;35mNone\u001b[0m,\n",
       "    \u001b[33mload_factor\u001b[0m=\u001b[3;35mNone\u001b[0m,\n",
       "    \u001b[33mcreated_time\u001b[0m=\u001b[1;35mdatetime\u001b[0m\u001b[1;35m.datetime\u001b[0m\u001b[1m(\u001b[0m\u001b[1;36m2022\u001b[0m, \u001b[1;36m9\u001b[0m, \u001b[1;36m7\u001b[0m, \u001b[1;36m20\u001b[0m, \u001b[1;36m27\u001b[0m, \u001b[1;36m2\u001b[0m, \u001b[33mtzinfo\u001b[0m=\u001b[35mdatetime\u001b[0m.timezone.utc\u001b[1m)\u001b[0m,\n",
       "    \u001b[33mlast_deployed_time\u001b[0m=\u001b[1;35mdatetime\u001b[0m\u001b[1;35m.datetime\u001b[0m\u001b[1m(\u001b[0m\u001b[1;36m2022\u001b[0m, \u001b[1;36m9\u001b[0m, \u001b[1;36m7\u001b[0m, \u001b[1;36m20\u001b[0m, \u001b[1;36m30\u001b[0m, \u001b[33mtzinfo\u001b[0m=\u001b[35mdatetime\u001b[0m.timezone.utc\u001b[1m)\u001b[0m,\n",
       "    \u001b[33mbundle_id\u001b[0m=\u001b[32m'61875'\u001b[0m,\n",
       "    \u001b[33mapp_mode\u001b[0m=\u001b[32m'jupyter-static'\u001b[0m,\n",
       "    \u001b[33mcontent_category\u001b[0m=\u001b[32m''\u001b[0m,\n",
       "    \u001b[33mparameterized\u001b[0m=\u001b[3;91mFalse\u001b[0m,\n",
       "    \u001b[33mcluster_name\u001b[0m=\u001b[32m'Kubernetes'\u001b[0m,\n",
       "    \u001b[33mimage_name\u001b[0m=\u001b[32m'ghcr.io/rstudio/content-pro:r4.1.3-py3.10.4-bionic'\u001b[0m,\n",
       "    \u001b[33mr_version\u001b[0m=\u001b[3;35mNone\u001b[0m,\n",
       "    \u001b[33mpy_version\u001b[0m=\u001b[32m'3.10.4'\u001b[0m,\n",
       "    \u001b[33mquarto_version\u001b[0m=\u001b[3;35mNone\u001b[0m,\n",
       "    \u001b[33mrun_as\u001b[0m=\u001b[3;35mNone\u001b[0m,\n",
       "    \u001b[33mrun_as_current_user\u001b[0m=\u001b[3;91mFalse\u001b[0m,\n",
       "    \u001b[33mowner_guid\u001b[0m=\u001b[32m'd03a6b7a-c818-4e40-8ef9-84ca567f9671'\u001b[0m,\n",
       "    \u001b[33mcontent_url\u001b[0m=\u001b[32m'https://colorado.rstudio.com/rsc/content/241fe2cd-6eba-4a79-9aa3-6e6fe28c5714/'\u001b[0m,\n",
       "    \u001b[33mdashboard_url\u001b[0m=\u001b[32m'https://colorado.rstudio.com/rsc/connect/#/apps/241fe2cd-6eba-4a79-9aa3-6e6fe28c5714'\u001b[0m,\n",
       "    \u001b[33mrole\u001b[0m=\u001b[3;35mNone\u001b[0m,\n",
       "    \u001b[33mid\u001b[0m=\u001b[32m'12560'\u001b[0m\n",
       "\u001b[1m)\u001b[0m\n"
      ]
     },
     "metadata": {},
     "output_type": "display_data"
    }
   ],
   "source": [
    "%reload_ext autoreload\n",
    "%autoreload 2\n",
    "\n",
    "from rich import print, inspect\n",
    "from connectapi import Api, Client, models\n",
    "\n",
    "\n",
    "api = Api()\n",
    "r = api.content.get_details(guid=\"241fe2cd-6eba-4a79-9aa3-6e6fe28c5714\")\n",
    "print(r)\n",
    "\n"
   ]
  },
  {
   "cell_type": "markdown",
   "metadata": {},
   "source": [
    "```bash\n",
    "curl --silent --show-error -L --max-redirs 0 --fail \\\n",
    "    -X GET \\\n",
    "    -H \"Authorization: Key ${CONNECT_API_KEY}\" \\\n",
    "    \"https://colorado.rstudio.com/rsc/__api__/v1/content/241fe2cd-6eba-4a79-9aa3-6e6fe28c5714\"\n",
    "```\n",
    "\n",
    "```bash\n",
    "https://colorado.rstudio.com/rsc/__api__/v1/content/241fe2cd-6eba-4a79-9aa3-6e6fe28c5714\n",
    "https://colorado.rstudio.com/rsc/__api__/v1/content/241fe2cd-6eba-4a79-9aa3-6e6fe28c5714\n",
    "```"
   ]
  },
  {
   "cell_type": "code",
   "execution_count": null,
   "metadata": {},
   "outputs": [],
   "source": [
    "r = api._call(\"/content/241fe2cd-6eba-4a79-9aa3-6e6fe28c5714\")\n",
    "inspect(r)"
   ]
  },
  {
   "cell_type": "code",
   "execution_count": null,
   "metadata": {},
   "outputs": [],
   "source": [
    "r = api.content.get_content(owner_guid=\"d03a6b7a-c818-4e40-8ef9-84ca567f9671\")\n",
    "# print(r)\n",
    "isinstance(r, list)\n",
    "isinstance(r[0], models.Content)"
   ]
  },
  {
   "cell_type": "code",
   "execution_count": null,
   "metadata": {},
   "outputs": [],
   "source": [
    "isinstance(1, int)"
   ]
  },
  {
   "cell_type": "code",
   "execution_count": null,
   "metadata": {},
   "outputs": [],
   "source": [
    "r"
   ]
  },
  {
   "cell_type": "code",
   "execution_count": null,
   "metadata": {},
   "outputs": [],
   "source": [
    "client = Client(connect_server=\"https://google.com\")\n",
    "api = Api(client)\n",
    "r = api.content.get_details(guid=\"241fe2cd-6eba-4a79-9aa3-6e6fe28c5714\")\n",
    "inspect(r)"
   ]
  },
  {
   "cell_type": "code",
   "execution_count": null,
   "metadata": {},
   "outputs": [],
   "source": [
    "r"
   ]
  },
  {
   "cell_type": "code",
   "execution_count": null,
   "metadata": {},
   "outputs": [],
   "source": [
    "r.raise_for_status()"
   ]
  },
  {
   "cell_type": "code",
   "execution_count": null,
   "metadata": {},
   "outputs": [],
   "source": []
  }
 ],
 "metadata": {
  "kernelspec": {
   "display_name": "Python 3.9.12 ('.venv': poetry)",
   "language": "python",
   "name": "python3"
  },
  "language_info": {
   "codemirror_mode": {
    "name": "ipython",
    "version": 3
   },
   "file_extension": ".py",
   "mimetype": "text/x-python",
   "name": "python",
   "nbconvert_exporter": "python",
   "pygments_lexer": "ipython3",
   "version": "3.9.12"
  },
  "orig_nbformat": 4,
  "vscode": {
   "interpreter": {
    "hash": "cf9e35367ee901c2a8ccb3be767adeb977483f64b12902f3335a32fc43a8b974"
   }
  }
 },
 "nbformat": 4,
 "nbformat_minor": 2
}
