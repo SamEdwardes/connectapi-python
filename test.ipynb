{
 "cells": [
  {
   "cell_type": "code",
   "execution_count": 2,
   "metadata": {},
   "outputs": [],
   "source": [
    "%reload_ext autoreload\n",
    "%autoreload 2\n",
    "\n",
    "from rich import print, inspect\n",
    "from connectapi import Api\n",
    "\n",
    "\n",
    "api = Api()"
   ]
  },
  {
   "cell_type": "code",
   "execution_count": null,
   "metadata": {},
   "outputs": [],
   "source": []
  },
  {
   "cell_type": "code",
   "execution_count": null,
   "metadata": {},
   "outputs": [],
   "source": [
    "data = {\n",
    "    'access_type': 'acl',\n",
    "    'connection_timeout': 3600,\n",
    "    'description': 'This report calculates per-team statistics ...',\n",
    "    'idle_timeout': 5,\n",
    "    'init_timeout': 60,\n",
    "    'load_factor': 0.5,\n",
    "    'max_conns_per_process': 20,\n",
    "    'max_processes': 3,\n",
    "    'min_processes': 0,\n",
    "    'name': 'quarterly-analysis',\n",
    "    'read_timeout': 3600,\n",
    "    'run_as': 'rstudio-connect',\n",
    "    'run_as_current_user': False,\n",
    "    'title': 'Quarterly Analysis of Team Velocity'\n",
    "}\n",
    "r = api.content.create_item(**data)\n",
    "print(r)"
   ]
  },
  {
   "cell_type": "code",
   "execution_count": null,
   "metadata": {},
   "outputs": [],
   "source": [
    "r = api.content.get_details(guid=\"241fe2cd-6eba-4a79-9aa3-6e6fe28c5714\")\n",
    "print(r)"
   ]
  },
  {
   "cell_type": "code",
   "execution_count": null,
   "metadata": {},
   "outputs": [],
   "source": [
    "r = api._call(\"/content/241fe2cd-6eba-4a79-9aa3-6e6fe28c5714\")\n",
    "inspect(r)"
   ]
  },
  {
   "cell_type": "code",
   "execution_count": null,
   "metadata": {},
   "outputs": [],
   "source": [
    "r = api.content.get_content(owner_guid=\"d03a6b7a-c818-4e40-8ef9-84ca567f9671\")\n",
    "# print(r)\n",
    "isinstance(r, list)\n",
    "isinstance(r[0], models.Content)"
   ]
  },
  {
   "cell_type": "code",
   "execution_count": null,
   "metadata": {},
   "outputs": [],
   "source": [
    "isinstance(1, int)"
   ]
  },
  {
   "cell_type": "code",
   "execution_count": null,
   "metadata": {},
   "outputs": [],
   "source": [
    "r"
   ]
  },
  {
   "cell_type": "code",
   "execution_count": null,
   "metadata": {},
   "outputs": [],
   "source": [
    "client = Client(connect_server=\"https://google.com\")\n",
    "api = Api(client)\n",
    "r = api.content.get_details(guid=\"241fe2cd-6eba-4a79-9aa3-6e6fe28c5714\")\n",
    "inspect(r)"
   ]
  },
  {
   "cell_type": "code",
   "execution_count": null,
   "metadata": {},
   "outputs": [],
   "source": [
    "r"
   ]
  },
  {
   "cell_type": "code",
   "execution_count": null,
   "metadata": {},
   "outputs": [],
   "source": [
    "r.raise_for_status()"
   ]
  },
  {
   "cell_type": "code",
   "execution_count": null,
   "metadata": {},
   "outputs": [],
   "source": []
  }
 ],
 "metadata": {
  "kernelspec": {
   "display_name": "Python 3.9.12 ('.venv': poetry)",
   "language": "python",
   "name": "python3"
  },
  "language_info": {
   "codemirror_mode": {
    "name": "ipython",
    "version": 3
   },
   "file_extension": ".py",
   "mimetype": "text/x-python",
   "name": "python",
   "nbconvert_exporter": "python",
   "pygments_lexer": "ipython3",
   "version": "3.9.12"
  },
  "orig_nbformat": 4,
  "vscode": {
   "interpreter": {
    "hash": "cf9e35367ee901c2a8ccb3be767adeb977483f64b12902f3335a32fc43a8b974"
   }
  }
 },
 "nbformat": 4,
 "nbformat_minor": 2
}
