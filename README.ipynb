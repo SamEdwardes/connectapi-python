{
  "cells": [
    {
      "cell_type": "raw",
      "metadata": {},
      "source": [
        "---\n",
        "title: connectapi\n",
        "---"
      ],
      "id": "a99f6572"
    },
    {
      "cell_type": "markdown",
      "metadata": {},
      "source": [
        "## Installation\n",
        "\n",
        "```bash\n",
        "pip install git+https://github.com/SamEdwardes/connectapi-python.git\n",
        "```\n",
        "\n",
        "## Usage\n"
      ],
      "id": "966f5c70"
    },
    {
      "cell_type": "code",
      "metadata": {},
      "source": [
        "from connectapi import Client, Content\n",
        "\n",
        "client = Client()\n",
        "content = Content.get_one(client, content_guid=\"241fe2cd-6eba-4a79-9aa3-6e6fe28c5714\")\n",
        "print(content)"
      ],
      "id": "17d90d69",
      "execution_count": null,
      "outputs": []
    }
  ],
  "metadata": {
    "kernelspec": {
      "name": "python3",
      "language": "python",
      "display_name": "Python 3 (ipykernel)"
    }
  },
  "nbformat": 4,
  "nbformat_minor": 5
}