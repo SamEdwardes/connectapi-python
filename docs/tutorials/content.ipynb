{
 "cells": [
  {
   "cell_type": "markdown",
   "metadata": {},
   "source": [
    "# Content"
   ]
  },
  {
   "cell_type": "code",
   "execution_count": 1,
   "metadata": {},
   "outputs": [
    {
     "name": "stdout",
     "output_type": "stream",
     "text": [
      "26a64b8b-e985-4dc6-bda0-893eceab556a -> Quarterly Analysis of Team Velocity\n",
      "0368f623-9f37-44b0-9455-5fd59a4d513a -> Quarterly Analysis of Team Velocity\n",
      "91d5bac2-db5f-44b6-b41b-d85138f48d8d -> bike-predict-model-metrics: a pinned 276 x 5 data frame\n",
      "69186bcd-5a1d-4607-a68b-da78ee6cdf2a -> Bike Predict - Model - API\n",
      "0273207f-0f1f-44cb-845e-408f9dae2dd6 -> bike_predict_model_r: a pinned list\n",
      "00036e13-9a3c-44c6-84eb-253de91b10c2 -> Bike Predict - ETL - Pinned Station Info\n",
      "4d525229-da20-4988-99a0-2af8788227a5 -> Quarterly Analysis of Team Velocity\n",
      "798d4645-1046-482d-a8f1-0462c71ece16 -> Quarterly Analysis of Team Velocity\n",
      "2330afcb-d4be-4cca-bc5b-cdf2a545c4c8 -> Quarterly Analysis of Team Velocity\n",
      "e406ba7a-3c93-4385-a3ae-bf799bd568a2 -> Quarterly Analysis of Team Velocity\n",
      "e45cfabe-e9cc-4c42-9cee-ccf06263a989 -> Workbench Admin Guide (PREVIEW)\n",
      "c6cb96ce-aa08-4d2c-8d5d-bc1032661d35 -> Quarterly Analysis of Team Velocity\n",
      "6fd8666d-12e6-45d1-95a0-552679a6d5f9 -> Quarterly Analysis of Team Velocity\n",
      "07b13479-5caf-4759-b7ed-9a877f37869d -> Quarterly Analysis of Team Velocity\n",
      "f50d9272-cd7a-43d4-b37c-7525ff15f960 -> Quarterly Analysis of Team Velocity\n",
      "da741a70-2c4e-4525-b56e-cacebca8afac -> Quarterly Analysis of Team Velocity\n",
      "c260a316-f9da-411a-b1a2-a987c24050e6 -> Quarterly Analysis of Team Velocity\n",
      "c5852162-ab13-4eec-ae73-697b86d81908 -> Quarterly Analysis of Team Velocity\n",
      "8cdcb358-6cc4-4c8b-9c69-50a50a7510fd -> Quarterly Analysis of Team Velocity\n",
      "01279965-a926-4952-a9cb-bf8b32de2e2d -> Quarterly Analysis of Team Velocity 2\n",
      "ef60355e-a2d5-4632-8687-cdc696d42762 -> Quarterly Analysis of Team Velocity\n",
      "1ad4f993-9b72-42a2-a2b5-77e3e4b29944 -> Quarterly Analysis of Team Velocity 2\n",
      "49bdd299-e99e-4992-a9ff-7ad24b714299 -> Quarterly Analysis of Team Velocity 2\n",
      "9e38daf2-95b2-4034-9029-09304234d3a3 -> Workbench User Guide (PREVIEW)\n",
      "3f596e8d-0fcb-42c9-92e2-d4486a6637ad -> Quarterly Analysis of Team Velocity 2\n",
      "1787c481-30f1-4455-a4a6-112b27ed36c7 -> Quarterly Analysis of Team Velocity 2\n",
      "62e21243-aada-4358-a32a-9c8a9bad7778 -> Quarterly Analysis of Team Velocity\n",
      "41e8c205-ded0-47ca-97f9-6ffac6052d82 -> Push button shiny demo\n",
      "8999406c-b9b2-45de-a5c2-e261043a8c8f -> Shiny push button demo\n",
      "6b7af81f-acbb-4f88-8fc3-b694911c908c -> Git backed streamlit demo\n",
      "9548504e-272c-439d-93d4-70c85e85c0ab -> Global variable scope test\n",
      "7997cb57-3180-4c2b-bca1-a2027db23ccb -> demo sep 8\n",
      "692ea95d-ac94-4afa-aa5b-db76c278d2ac -> Connect Widgets - Palmer Penguins\n",
      "f351231a-84bd-4598-b550-f835f76cf2ae -> Pins with R - Palmer Penguins\n",
      "5450ba17-ddc2-4ef6-aeb8-ac2cec53d244 -> R Markdown - Palmer Penguins\n",
      "8ffb7488-d360-43ee-93bb-babf7a56ac59 -> Plumber Tableau - Palmer Penguins\n",
      "331f89eb-988f-4874-b831-566916def4dd -> Fast API - Palmer Penguins\n",
      "3b7c12ff-328c-4031-b0af-47110c4ff747 -> Plumber - Palmer Penguins\n",
      "241fe2cd-6eba-4a79-9aa3-6e6fe28c5714 -> Jupyter Notebook - Palmer Penguins\n",
      "73f77f59-1bc7-4225-b21a-01df0447ac7b -> Dash Multi-Page - Palmer Penguins\n",
      "9b456fb6-e8b7-4b4c-bb60-2ba5f113b052 -> Dash - Palmer Penguins\n",
      "e33879ca-e251-49fa-b9bf-a56db9997048 -> Streamlit - Palmer Penguins\n",
      "03953aef-f4f7-4de6-8de0-828e1cb64f8f -> Shiny for R - Palmer Penguins\n",
      "bdc0b532-6b42-4341-8310-73da49eafe09 -> Bike Predict - App - Client App (DEV)\n",
      "a4cea054-c92d-4764-970d-b3473239c939 -> Bike Predict - ETL Step 1 - Raw Data Refresh\n",
      "07b3ff23-595b-4f8b-9f28-7c393cf230ef -> Bike Predict - Model Step 1 - Train and Deploy\n",
      "0477855b-caeb-43e8-b3d9-28e0965e6230 -> Bike Predict - App - Client App\n",
      "3124a8f9-7d30-44b9-a49a-552db71b036e -> Bike Predict - App - Connect Widgets\n",
      "e2c4d2ce-8ad7-4e10-9e57-4f9a07677141 -> Bike Predict - Model Step 3 - Metrics\n",
      "db334c42-9c7c-4102-8127-71c2ea82fba6 -> Bike Predict - Model Step 2 - Model Card\n",
      "ab526178-3292-40b3-90f1-793fd86c5dc0 -> Using VS Code in Workbench\n",
      "82fe2eea-0164-4823-98e3-ff15f1d31036 -> Bike Predict - ETL Step 2 - Tidy Data\n"
     ]
    }
   ],
   "source": [
    "from connectapi import Client, Content\n",
    "\n",
    "client = Client()\n",
    "my_content = Content.get_my_content(client)\n",
    "\n",
    "for i in my_content:\n",
    "    print(f\"{i.guid} -> {i.title}\")"
   ]
  },
  {
   "cell_type": "code",
   "execution_count": null,
   "metadata": {},
   "outputs": [],
   "source": []
  }
 ],
 "metadata": {
  "kernelspec": {
   "display_name": "Python 3.9.12 ('.venv': poetry)",
   "language": "python",
   "name": "python3"
  },
  "language_info": {
   "codemirror_mode": {
    "name": "ipython",
    "version": 3
   },
   "file_extension": ".py",
   "mimetype": "text/x-python",
   "name": "python",
   "nbconvert_exporter": "python",
   "pygments_lexer": "ipython3",
   "version": "3.9.12"
  },
  "orig_nbformat": 4,
  "vscode": {
   "interpreter": {
    "hash": "cf9e35367ee901c2a8ccb3be767adeb977483f64b12902f3335a32fc43a8b974"
   }
  }
 },
 "nbformat": 4,
 "nbformat_minor": 2
}
