{
 "cells": [
  {
   "cell_type": "markdown",
   "metadata": {},
   "source": [
    "# Welcome\n",
    "\n",
    "```{warning}\n",
    "**WARNING:** this library is under active development and should not be used for production. The API will change and documentation could be wrong or incomplete.\n",
    "```\n",
    "\n",
    "This package provides a Python client for the RStudio Connect Server API as well as helpful functions that utilize the client. This package build off of the official HTTP requests based RStudio Connect API: <https://docs.rstudio.com/connect/api/#overview--authentication>.\n",
    "\n",
    "- Source code: <https://github.com/SamEdwardes/connectapi-python>\n",
    "- Docs: <https://connectapi-python.netlify.app>"
   ]
  },
  {
   "cell_type": "markdown",
   "metadata": {},
   "source": [
    "## Installing\n",
    "\n",
    "```bash\n",
    "pip install git+https://github.com/SamEdwardes/connectapi-python.git\n",
    "```"
   ]
  },
  {
   "cell_type": "markdown",
   "metadata": {},
   "source": [
    "## Usage\n",
    "\n",
    "To use the connectapi package you must first create an `Api` instance."
   ]
  },
  {
   "cell_type": "code",
   "execution_count": 1,
   "metadata": {},
   "outputs": [
    {
     "name": "stdout",
     "output_type": "stream",
     "text": [
      "\n",
      "Client(\n",
      "    connect_server='https://colorado.rstudio.com/rsc',\n",
      "    connect_api_key='XXXXXXXX',\n",
      "    api_endpoint='https://colorado.rstudio.com/rsc/__api__/v1',\n",
      ")\n",
      "\n"
     ]
    }
   ],
   "source": [
    "from connectapi import Client\n",
    "\n",
    "client = Client()\n",
    "print(client)"
   ]
  },
  {
   "cell_type": "markdown",
   "metadata": {},
   "source": [
    "By default connectapi will attempt to establish the connect automatically by using two environment variables: `CONNECT_SERVER` and `CONNECT_API_KEY`. However if these are not set, you can manually specify them using the `connect_server` and `connect_api_key` parameters."
   ]
  },
  {
   "cell_type": "markdown",
   "metadata": {},
   "source": [
    "The API is organized around several objects that represent different units of data on Connect. These objects include:\n",
    "\n",
    "- `Content`: Find, edit, and create content.\n",
    "- `User`: Find, edit, and create users.\n",
    "\n",
    "The entire connectapi interface has been \"typed\", so if you use an editor like VS Code or Jupyter Lab you will get helpful hints and autosuggestions. Below are a few examples of how you can use connectapi."
   ]
  },
  {
   "cell_type": "markdown",
   "metadata": {},
   "source": [
    "Find all of the content for a specific user:"
   ]
  },
  {
   "cell_type": "code",
   "execution_count": null,
   "metadata": {},
   "outputs": [],
   "source": [
    "from connectapi import Client, Content\n",
    "\n",
    "client = Client()\n",
    "my_content = Content.get_my_content(client)\n",
    "\n",
    "print(f\"I have {len(my_content)} items of content.\")"
   ]
  },
  {
   "cell_type": "code",
   "execution_count": null,
   "metadata": {},
   "outputs": [],
   "source": [
    "for content in my_content[0:2]:\n",
    "    print(\"--\")\n",
    "    print(content.guid, content.title)"
   ]
  },
  {
   "cell_type": "markdown",
   "metadata": {},
   "source": [
    "Connectapi uses [Pydantic](https://pydantic-docs.helpmanual.io) under the hood. This makes it easy to access content attributes."
   ]
  },
  {
   "cell_type": "code",
   "execution_count": null,
   "metadata": {},
   "outputs": [],
   "source": [
    "from connectapi import Client, Content\n",
    "\n",
    "client = Client()\n",
    "content = Content.get_one(client, content_guid=\"241fe2cd-6eba-4a79-9aa3-6e6fe28c5714\")\n",
    "print(content.guid, content.title)"
   ]
  },
  {
   "cell_type": "markdown",
   "metadata": {},
   "source": [
    "You can quickly convert items from pydantic models to standard types of objects such as dictionaries."
   ]
  },
  {
   "cell_type": "code",
   "execution_count": null,
   "metadata": {},
   "outputs": [],
   "source": [
    "print(content.dict(include={\"guid\", \"title\", \"last_deployed_time\"}))"
   ]
  },
  {
   "cell_type": "code",
   "execution_count": null,
   "metadata": {},
   "outputs": [],
   "source": [
    "print(content.dict().keys())"
   ]
  }
 ],
 "metadata": {
  "kernelspec": {
   "display_name": "Python 3.9.12 ('.venv': poetry)",
   "language": "python",
   "name": "python3"
  },
  "language_info": {
   "codemirror_mode": {
    "name": "ipython",
    "version": 3
   },
   "file_extension": ".py",
   "mimetype": "text/x-python",
   "name": "python",
   "nbconvert_exporter": "python",
   "pygments_lexer": "ipython3",
   "version": "3.9.12"
  },
  "vscode": {
   "interpreter": {
    "hash": "cf9e35367ee901c2a8ccb3be767adeb977483f64b12902f3335a32fc43a8b974"
   }
  }
 },
 "nbformat": 4,
 "nbformat_minor": 2
}
