{
 "cells": [
  {
   "cell_type": "markdown",
   "metadata": {},
   "source": [
    "# Welcome\n",
    "\n",
    "This package provides a Python client for the RStudio Connect Server API as well as helpful functions that utilize the client. This package build off of the official HTTP requests based RStudio Connect API: <https://docs.rstudio.com/connect/api/#overview--authentication>.\n",
    "\n",
    "```{tableofcontents}\n",
    "```"
   ]
  },
  {
   "cell_type": "markdown",
   "metadata": {},
   "source": [
    "## Installing\n",
    "\n",
    "```bash\n",
    "python -m pip install connectapi\n",
    "```"
   ]
  },
  {
   "cell_type": "markdown",
   "metadata": {},
   "source": [
    "## Usage\n",
    "\n",
    "To use the connectapi package you must first create an `Api` instance."
   ]
  },
  {
   "cell_type": "code",
   "execution_count": 13,
   "metadata": {},
   "outputs": [
    {
     "name": "stdout",
     "output_type": "stream",
     "text": [
      "Initiating client\n"
     ]
    },
    {
     "data": {
      "text/plain": [
       "Api(client=Client(connect_server='https://colorado.rstudio.com/rsc', connect_api_key='RL7bY4aZNi8HQgoezAWxBAePlAWQh5MA', api_endpoint='https://colorado.rstudio.com/rsc/__api__/v1'), content=ContentApi(client=Client(connect_server='https://colorado.rstudio.com/rsc', connect_api_key='RL7bY4aZNi8HQgoezAWxBAePlAWQh5MA', api_endpoint='https://colorado.rstudio.com/rsc/__api__/v1')))"
      ]
     },
     "execution_count": 13,
     "metadata": {},
     "output_type": "execute_result"
    }
   ],
   "source": [
    "from connectapi import Api\n",
    "\n",
    "api = Api()\n",
    "api"
   ]
  },
  {
   "cell_type": "markdown",
   "metadata": {},
   "source": [
    "By default connectapi will attempt to establish the connect automatically by using two environment variables:\n",
    "\n",
    "- `CONNECT_SERVER`\n",
    "- `CONNECT_API_KEY`\n",
    "\n",
    "However if these are not set, you can manually specify them."
   ]
  },
  {
   "cell_type": "code",
   "execution_count": 14,
   "metadata": {},
   "outputs": [
    {
     "name": "stdout",
     "output_type": "stream",
     "text": [
      "Initiating client\n"
     ]
    },
    {
     "data": {
      "text/plain": [
       "Api(client=Client(connect_server='https://colorado.rstudio.com/rsc', connect_api_key='RL7bY4aZNi8HQgoezAWxBAePlAWQh5MA', api_endpoint='https://colorado.rstudio.com/rsc/__api__/v1'), content=ContentApi(client=Client(connect_server='https://colorado.rstudio.com/rsc', connect_api_key='RL7bY4aZNi8HQgoezAWxBAePlAWQh5MA', api_endpoint='https://colorado.rstudio.com/rsc/__api__/v1')))"
      ]
     },
     "execution_count": 14,
     "metadata": {},
     "output_type": "execute_result"
    }
   ],
   "source": [
    "import os\n",
    "\n",
    "from connectapi import Client, Api\n",
    "\n",
    "my_api_key = os.getenv(\"CONNECT_API_KEY\")\n",
    "client = Client(connect_server=\"https://colorado.rstudio.com/rsc\", connect_api_key=my_api_key)\n",
    "api = Api(client=client)\n",
    "api"
   ]
  },
  {
   "cell_type": "markdown",
   "metadata": {},
   "source": [
    "After your `Api` object is set up you can use it to query your Connect server. The entire connectapi interface has been \"typed\", so if you use an editor like VS Code or Jupyter Lab you will get helpful hints and autosuggestions. For example, you can see all of the content for a specific user:"
   ]
  },
  {
   "cell_type": "code",
   "execution_count": 15,
   "metadata": {},
   "outputs": [
    {
     "name": "stdout",
     "output_type": "stream",
     "text": [
      "For user d03a6b7a-c818-4e40-8ef9-84ca567f9671 there are 29 items of content.\n",
      "--\n",
      "guid='91d5bac2-db5f-44b6-b41b-d85138f48d8d' name='bike-predict-model-metrics' title='bike-predict-model-metrics: a pinned 264 x 5 data frame' description='' access_type='all' connection_timeout=None read_timeout=None init_timeout=None idle_timeout=None max_processes=None min_processes=None max_conns_per_process=None load_factor=None created_time=datetime.datetime(2022, 6, 21, 20, 18, 38, tzinfo=datetime.timezone.utc) last_deployed_time=datetime.datetime(2022, 9, 14, 9, 31, 26, tzinfo=datetime.timezone.utc) bundle_id='62152' app_mode='static' content_category='pin' parameterized=False cluster_name=None image_name=None r_version=None py_version=None quarto_version=None run_as=None run_as_current_user=False owner_guid='d03a6b7a-c818-4e40-8ef9-84ca567f9671' content_url='https://colorado.rstudio.com/rsc/content/91d5bac2-db5f-44b6-b41b-d85138f48d8d/' dashboard_url='https://colorado.rstudio.com/rsc/connect/#/apps/91d5bac2-db5f-44b6-b41b-d85138f48d8d' role=None id='11630'\n",
      "--\n",
      "guid='69186bcd-5a1d-4607-a68b-da78ee6cdf2a' name='bike-predict-r-api' title='Bike Predict - Model - API' description='' access_type='all' connection_timeout=3600 read_timeout=3600 init_timeout=300 idle_timeout=120 max_processes=3 min_processes=1 max_conns_per_process=50 load_factor=0.2 created_time=datetime.datetime(2022, 5, 9, 17, 5, 4, tzinfo=datetime.timezone.utc) last_deployed_time=datetime.datetime(2022, 9, 14, 9, 2, 47, tzinfo=datetime.timezone.utc) bundle_id='62151' app_mode='api' content_category='' parameterized=False cluster_name='Kubernetes' image_name='ghcr.io/rstudio/content-pro:r4.1.3-py3.10.4-bionic' r_version='4.1.3' py_version=None quarto_version=None run_as=None run_as_current_user=False owner_guid='d03a6b7a-c818-4e40-8ef9-84ca567f9671' content_url='https://colorado.rstudio.com/rsc/content/69186bcd-5a1d-4607-a68b-da78ee6cdf2a/' dashboard_url='https://colorado.rstudio.com/rsc/connect/#/apps/69186bcd-5a1d-4607-a68b-da78ee6cdf2a' role=None id='11314'\n"
     ]
    }
   ],
   "source": [
    "my_guid = \"d03a6b7a-c818-4e40-8ef9-84ca567f9671\"\n",
    "contents = api.content.get_content(my_guid)\n",
    "\n",
    "print(f\"For user {my_guid} there are {len(contents)} items of content.\")\n",
    "\n",
    "for content in contents[0:2]:\n",
    "    print(\"--\")\n",
    "    print(content)"
   ]
  },
  {
   "cell_type": "markdown",
   "metadata": {},
   "source": [
    "Connect api uses [Pydantic](https://pydantic-docs.helpmanual.io) under the hood, this means that everything is a pydantic model. You can quickly convert items from pydantic models to standard types of objects such as dictionaries."
   ]
  },
  {
   "cell_type": "code",
   "execution_count": 16,
   "metadata": {},
   "outputs": [
    {
     "data": {
      "text/plain": [
       "{'guid': '91d5bac2-db5f-44b6-b41b-d85138f48d8d',\n",
       " 'name': 'bike-predict-model-metrics',\n",
       " 'title': 'bike-predict-model-metrics: a pinned 264 x 5 data frame',\n",
       " 'description': '',\n",
       " 'access_type': 'all',\n",
       " 'created_time': datetime.datetime(2022, 6, 21, 20, 18, 38, tzinfo=datetime.timezone.utc),\n",
       " 'last_deployed_time': datetime.datetime(2022, 9, 14, 9, 31, 26, tzinfo=datetime.timezone.utc),\n",
       " 'bundle_id': '62152',\n",
       " 'app_mode': 'static',\n",
       " 'content_category': 'pin',\n",
       " 'parameterized': False,\n",
       " 'run_as_current_user': False,\n",
       " 'owner_guid': 'd03a6b7a-c818-4e40-8ef9-84ca567f9671',\n",
       " 'content_url': 'https://colorado.rstudio.com/rsc/content/91d5bac2-db5f-44b6-b41b-d85138f48d8d/',\n",
       " 'dashboard_url': 'https://colorado.rstudio.com/rsc/connect/#/apps/91d5bac2-db5f-44b6-b41b-d85138f48d8d',\n",
       " 'id': '11630'}"
      ]
     },
     "execution_count": 16,
     "metadata": {},
     "output_type": "execute_result"
    }
   ],
   "source": [
    "contents[0].dict(exclude_none=True)"
   ]
  },
  {
   "cell_type": "markdown",
   "metadata": {},
   "source": []
  }
 ],
 "metadata": {
  "kernelspec": {
   "display_name": "Python 3.9.12 ('.venv': poetry)",
   "language": "python",
   "name": "python3"
  },
  "language_info": {
   "codemirror_mode": {
    "name": "ipython",
    "version": 3
   },
   "file_extension": ".py",
   "mimetype": "text/x-python",
   "name": "python",
   "nbconvert_exporter": "python",
   "pygments_lexer": "ipython3",
   "version": "3.9.12"
  },
  "orig_nbformat": 4,
  "vscode": {
   "interpreter": {
    "hash": "cf9e35367ee901c2a8ccb3be767adeb977483f64b12902f3335a32fc43a8b974"
   }
  }
 },
 "nbformat": 4,
 "nbformat_minor": 2
}
