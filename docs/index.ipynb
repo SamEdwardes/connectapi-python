{
 "cells": [
  {
   "cell_type": "markdown",
   "metadata": {},
   "source": [
    "# Welcome\n",
    "\n",
    "```{warning}\n",
    "Connectapi is still under development. Do not use it in production.\n",
    "```\n",
    "\n",
    "This package provides a Python client for the RStudio Connect Server API as well as helpful functions that utilize the client. This package build off of the official HTTP requests based RStudio Connect API: <https://docs.rstudio.com/connect/api/#overview--authentication>.\n",
    "\n",
    "```{tableofcontents}\n",
    "```"
   ]
  },
  {
   "cell_type": "markdown",
   "metadata": {},
   "source": [
    "## Installing\n",
    "\n",
    "```bash\n",
    "python -m pip install connectapi\n",
    "```"
   ]
  },
  {
   "cell_type": "markdown",
   "metadata": {},
   "source": [
    "## Usage\n",
    "\n",
    "To use the connectapi package you must first create an `Api` instance."
   ]
  },
  {
   "cell_type": "code",
   "execution_count": 3,
   "metadata": {},
   "outputs": [
    {
     "name": "stdout",
     "output_type": "stream",
     "text": [
      "\n",
      "Client(\n",
      "    connect_server='https://colorado.rstudio.com/rsc',\n",
      "    connect_api_key='XXXXXXXX',\n",
      "    api_endpoint='https://colorado.rstudio.com/rsc/__api__/v1',\n",
      ")\n",
      "\n"
     ]
    }
   ],
   "source": [
    "from connectapi import Client\n",
    "\n",
    "client = Client()\n",
    "print(client)"
   ]
  },
  {
   "cell_type": "markdown",
   "metadata": {},
   "source": [
    "By default connectapi will attempt to establish the connect automatically by using two environment variables:\n",
    "\n",
    "- `CONNECT_SERVER`\n",
    "- `CONNECT_API_KEY`\n",
    "\n",
    "However if these are not set, you can manually specify them."
   ]
  },
  {
   "cell_type": "code",
   "execution_count": 4,
   "metadata": {},
   "outputs": [
    {
     "name": "stdout",
     "output_type": "stream",
     "text": [
      "\n",
      "Client(\n",
      "    connect_server='https://colorado.rstudio.com/rsc',\n",
      "    connect_api_key='XXXXXXXX',\n",
      "    api_endpoint='https://colorado.rstudio.com/rsc/__api__/v1',\n",
      ")\n",
      "\n"
     ]
    }
   ],
   "source": [
    "import os\n",
    "\n",
    "from connectapi import Client\n",
    "\n",
    "my_api_key = os.getenv(\"CONNECT_API_KEY\")\n",
    "client = Client(connect_server=\"https://colorado.rstudio.com/rsc\", connect_api_key=my_api_key)\n",
    "print(client)"
   ]
  },
  {
   "cell_type": "markdown",
   "metadata": {},
   "source": [
    "The API is organized around several modules that represent different units of data on Connect. These modules include:\n",
    "\n",
    "- `Content`: Find, edit, and create content.\n",
    "- `User`: Find, edit, and create users.\n",
    "\n",
    "The entire connectapi interface has been \"typed\", so if you use an editor like VS Code or Jupyter Lab you will get helpful hints and autosuggestions. Below are a few examples of how you can use connectapi."
   ]
  },
  {
   "cell_type": "markdown",
   "metadata": {},
   "source": [
    "Find all of the content for a specific user:"
   ]
  },
  {
   "cell_type": "code",
   "execution_count": 6,
   "metadata": {},
   "outputs": [
    {
     "name": "stdout",
     "output_type": "stream",
     "text": [
      "For user d03a6b7a-c818-4e40-8ef9-84ca567f9671 there are 44 items of content.\n",
      "--\n",
      "guid='6fd8666d-12e6-45d1-95a0-552679a6d5f9' name='59633472-1e1a-483e-b9d6-7e7fa7f3c1d4' title='Quarterly Analysis of Team Velocity' description='This report calculates per-team statistics ...' access_type='acl' connection_timeout=3600 read_timeout=3600 init_timeout=60 idle_timeout=5 max_processes=3 min_processes=0 max_conns_per_process=20 load_factor=0.5 created_time=datetime.datetime(2022, 9, 15, 23, 15, 43, tzinfo=datetime.timezone.utc) last_deployed_time=datetime.datetime(2022, 9, 15, 23, 15, 43, tzinfo=datetime.timezone.utc) bundle_id=None app_mode='unknown' content_category='' parameterized=False cluster_name=None image_name=None r_version=None py_version=None quarto_version=None run_as='rstudio-connect' run_as_current_user=False owner_guid='d03a6b7a-c818-4e40-8ef9-84ca567f9671' content_url='https://colorado.rstudio.com/rsc/content/6fd8666d-12e6-45d1-95a0-552679a6d5f9/' dashboard_url='https://colorado.rstudio.com/rsc/connect/#/apps/6fd8666d-12e6-45d1-95a0-552679a6d5f9' role=None id='12683' client=Client(connect_server='https://colorado.rstudio.com/rsc', connect_api_key='XXXXXXXX', api_endpoint='https://colorado.rstudio.com/rsc/__api__/v1')\n",
      "--\n",
      "guid='07b13479-5caf-4759-b7ed-9a877f37869d' name='09bab477-841b-4f03-8927-978bb595b639' title='Quarterly Analysis of Team Velocity' description='This report calculates per-team statistics ...' access_type='acl' connection_timeout=3600 read_timeout=3600 init_timeout=60 idle_timeout=5 max_processes=3 min_processes=0 max_conns_per_process=20 load_factor=0.5 created_time=datetime.datetime(2022, 9, 15, 23, 5, 59, tzinfo=datetime.timezone.utc) last_deployed_time=datetime.datetime(2022, 9, 15, 23, 5, 59, tzinfo=datetime.timezone.utc) bundle_id=None app_mode='unknown' content_category='' parameterized=False cluster_name=None image_name=None r_version=None py_version=None quarto_version=None run_as='rstudio-connect' run_as_current_user=False owner_guid='d03a6b7a-c818-4e40-8ef9-84ca567f9671' content_url='https://colorado.rstudio.com/rsc/content/07b13479-5caf-4759-b7ed-9a877f37869d/' dashboard_url='https://colorado.rstudio.com/rsc/connect/#/apps/07b13479-5caf-4759-b7ed-9a877f37869d' role=None id='12682' client=Client(connect_server='https://colorado.rstudio.com/rsc', connect_api_key='XXXXXXXX', api_endpoint='https://colorado.rstudio.com/rsc/__api__/v1')\n"
     ]
    }
   ],
   "source": [
    "from connectapi import Client, Content\n",
    "\n",
    "client = Client()\n",
    "\n",
    "my_guid = \"d03a6b7a-c818-4e40-8ef9-84ca567f9671\"\n",
    "my_content = Content.get(client, owner_guid=my_guid)\n",
    "\n",
    "print(f\"For user {my_guid} there are {len(my_content)} items of content.\")\n",
    "\n",
    "for content in my_content[0:2]:\n",
    "    print(\"--\")\n",
    "    print(content)"
   ]
  },
  {
   "cell_type": "markdown",
   "metadata": {},
   "source": [
    "You can also get one specific unit of content:"
   ]
  },
  {
   "cell_type": "code",
   "execution_count": 7,
   "metadata": {},
   "outputs": [
    {
     "name": "stdout",
     "output_type": "stream",
     "text": [
      "guid='241fe2cd-6eba-4a79-9aa3-6e6fe28c5714' name='Jupyter-Notebook---Palmer-Penguins-1662582421920' title='Jupyter Notebook - Palmer Penguins' description='' access_type='all' connection_timeout=None read_timeout=None init_timeout=None idle_timeout=None max_processes=None min_processes=None max_conns_per_process=None load_factor=None created_time=datetime.datetime(2022, 9, 7, 20, 27, 2, tzinfo=datetime.timezone.utc) last_deployed_time=datetime.datetime(2022, 9, 7, 20, 30, tzinfo=datetime.timezone.utc) bundle_id='61875' app_mode='jupyter-static' content_category='' parameterized=False cluster_name='Kubernetes' image_name='ghcr.io/rstudio/content-pro:r4.1.3-py3.10.4-bionic' r_version=None py_version='3.10.4' quarto_version=None run_as=None run_as_current_user=False owner_guid='d03a6b7a-c818-4e40-8ef9-84ca567f9671' content_url='https://colorado.rstudio.com/rsc/content/241fe2cd-6eba-4a79-9aa3-6e6fe28c5714/' dashboard_url='https://colorado.rstudio.com/rsc/connect/#/apps/241fe2cd-6eba-4a79-9aa3-6e6fe28c5714' role=None id='12560' client=Client(connect_server='https://colorado.rstudio.com/rsc', connect_api_key='XXXXXXXX', api_endpoint='https://colorado.rstudio.com/rsc/__api__/v1')\n"
     ]
    }
   ],
   "source": [
    "from connectapi import Client, Content\n",
    "\n",
    "client = Client()\n",
    "content = Content.get_one(client, content_guid=\"241fe2cd-6eba-4a79-9aa3-6e6fe28c5714\")\n",
    "print(content)"
   ]
  },
  {
   "cell_type": "markdown",
   "metadata": {},
   "source": [
    "Connect api uses [Pydantic](https://pydantic-docs.helpmanual.io) under the hood. This makes it easy to access content attributes."
   ]
  },
  {
   "cell_type": "code",
   "execution_count": 11,
   "metadata": {},
   "outputs": [
    {
     "name": "stdout",
     "output_type": "stream",
     "text": [
      "guid  = 241fe2cd-6eba-4a79-9aa3-6e6fe28c5714\n",
      "title = Jupyter Notebook - Palmer Penguins\n"
     ]
    }
   ],
   "source": [
    "print(f\"guid  = {content.guid}\")\n",
    "print(f\"title = {content.title}\")"
   ]
  },
  {
   "cell_type": "markdown",
   "metadata": {},
   "source": [
    "You can quickly convert items from pydantic models to standard types of objects such as dictionaries."
   ]
  },
  {
   "cell_type": "code",
   "execution_count": 12,
   "metadata": {},
   "outputs": [
    {
     "name": "stdout",
     "output_type": "stream",
     "text": [
      "{'guid': '241fe2cd-6eba-4a79-9aa3-6e6fe28c5714', 'name': 'Jupyter-Notebook---Palmer-Penguins-1662582421920', 'title': 'Jupyter Notebook - Palmer Penguins', 'description': '', 'access_type': 'all', 'connection_timeout': None, 'read_timeout': None, 'init_timeout': None, 'idle_timeout': None, 'max_processes': None, 'min_processes': None, 'max_conns_per_process': None, 'load_factor': None, 'created_time': datetime.datetime(2022, 9, 7, 20, 27, 2, tzinfo=datetime.timezone.utc), 'last_deployed_time': datetime.datetime(2022, 9, 7, 20, 30, tzinfo=datetime.timezone.utc), 'bundle_id': '61875', 'app_mode': 'jupyter-static', 'content_category': '', 'parameterized': False, 'cluster_name': 'Kubernetes', 'image_name': 'ghcr.io/rstudio/content-pro:r4.1.3-py3.10.4-bionic', 'r_version': None, 'py_version': '3.10.4', 'quarto_version': None, 'run_as': None, 'run_as_current_user': False, 'owner_guid': 'd03a6b7a-c818-4e40-8ef9-84ca567f9671', 'content_url': 'https://colorado.rstudio.com/rsc/content/241fe2cd-6eba-4a79-9aa3-6e6fe28c5714/', 'dashboard_url': 'https://colorado.rstudio.com/rsc/connect/#/apps/241fe2cd-6eba-4a79-9aa3-6e6fe28c5714', 'role': None, 'id': '12560', 'client': Client(connect_server='https://colorado.rstudio.com/rsc', connect_api_key='XXXXXXXX', api_endpoint='https://colorado.rstudio.com/rsc/__api__/v1')}\n"
     ]
    }
   ],
   "source": [
    "print(content.dict())"
   ]
  }
 ],
 "metadata": {
  "kernelspec": {
   "display_name": "Python 3.9.12 ('.venv': poetry)",
   "language": "python",
   "name": "python3"
  },
  "language_info": {
   "codemirror_mode": {
    "name": "ipython",
    "version": 3
   },
   "file_extension": ".py",
   "mimetype": "text/x-python",
   "name": "python",
   "nbconvert_exporter": "python",
   "pygments_lexer": "ipython3",
   "version": "3.9.12"
  },
  "orig_nbformat": 4,
  "vscode": {
   "interpreter": {
    "hash": "cf9e35367ee901c2a8ccb3be767adeb977483f64b12902f3335a32fc43a8b974"
   }
  }
 },
 "nbformat": 4,
 "nbformat_minor": 2
}
