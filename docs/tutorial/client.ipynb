{
 "cells": [
  {
   "cell_type": "markdown",
   "metadata": {},
   "source": [
    "# Client"
   ]
  },
  {
   "cell_type": "markdown",
   "metadata": {},
   "source": [
    "The `Client` object is used to create the connection between your computer and the Connect Server. To `Client` object requires two parameters:\n",
    "\n",
    "- `connect_server`\n",
    "- `connect_api_key`\n",
    "\n",
    "There are two ways you can set these values:\n",
    "\n",
    "1. You can set them as environment variables: `CONNECT_SERVER` and `CONNECT_API_KEY`. Connectapi will automatically check for these environment variables and use them.\n",
    "2. You can also manually set the values in your code. However, It is not recommended to set the API key this way for security concerns."
   ]
  },
  {
   "cell_type": "markdown",
   "metadata": {},
   "source": [
    "## Example 1: using environment variables"
   ]
  },
  {
   "cell_type": "code",
   "execution_count": null,
   "metadata": {},
   "outputs": [],
   "source": [
    "from connectapi import Client\n",
    "\n",
    "client = Client()\n",
    "print(client)"
   ]
  },
  {
   "cell_type": "markdown",
   "metadata": {},
   "source": [
    "## Example 2: manually specifying"
   ]
  },
  {
   "cell_type": "code",
   "execution_count": null,
   "metadata": {},
   "outputs": [],
   "source": [
    "from connectapi import Client\n",
    "\n",
    "client = Client(\n",
    "    connect_server='https://colorado.rstudio.com/rsc',\n",
    "    connect_api_key='PASSWORD'\n",
    ")\n",
    "print(client)"
   ]
  },
  {
   "cell_type": "markdown",
   "metadata": {},
   "source": [
    "## Usage\n",
    "\n",
    "The `Client` object is the building block for all calls to the Connect API. All objects require a `Client` as a parameter.\n",
    "\n",
    "For example, if I want to get the details for my current user I must pass in the `Client` object."
   ]
  },
  {
   "cell_type": "code",
   "execution_count": null,
   "metadata": {},
   "outputs": [],
   "source": [
    "from connectapi import Client, User\n",
    "\n",
    "client = Client()\n",
    "user = User.whoami(client)\n",
    "print(user)"
   ]
  },
  {
   "cell_type": "code",
   "execution_count": null,
   "metadata": {},
   "outputs": [],
   "source": []
  }
 ],
 "metadata": {
  "kernelspec": {
   "display_name": "Python 3.9.12 ('.venv': poetry)",
   "language": "python",
   "name": "python3"
  },
  "language_info": {
   "codemirror_mode": {
    "name": "ipython",
    "version": 3
   },
   "file_extension": ".py",
   "mimetype": "text/x-python",
   "name": "python",
   "nbconvert_exporter": "python",
   "pygments_lexer": "ipython3",
   "version": "3.9.12"
  },
  "vscode": {
   "interpreter": {
    "hash": "cf9e35367ee901c2a8ccb3be767adeb977483f64b12902f3335a32fc43a8b974"
   }
  }
 },
 "nbformat": 4,
 "nbformat_minor": 2
}
