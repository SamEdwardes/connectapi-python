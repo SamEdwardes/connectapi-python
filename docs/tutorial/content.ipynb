{
 "cells": [
  {
   "cell_type": "markdown",
   "metadata": {},
   "source": [
    "# Content"
   ]
  },
  {
   "cell_type": "markdown",
   "metadata": {},
   "source": [
    "The connectapi has many helpful tools for managing content. You can:\n",
    "\n",
    "- Create new content.\n",
    "- Update the metadata for existing content.\n",
    "- Delete existing content."
   ]
  },
  {
   "cell_type": "markdown",
   "metadata": {},
   "source": [
    "## Creating new content"
   ]
  },
  {
   "cell_type": "code",
   "execution_count": null,
   "metadata": {},
   "outputs": [],
   "source": [
    "from connectapi import Client, Content\n",
    "\n",
    "client = Client()\n",
    "my_content = Content.get_my_content(client)\n",
    "\n",
    "for i in my_content:\n",
    "    print(f\"{i.guid} -> {i.title}\")"
   ]
  },
  {
   "cell_type": "markdown",
   "metadata": {},
   "source": [
    "## Updating content\n",
    "\n",
    "With the connectapi you can edit the metadata for content. You can update the following fields:"
   ]
  },
  {
   "cell_type": "code",
   "execution_count": null,
   "metadata": {},
   "outputs": [],
   "source": [
    "Content.get_editable_fields()"
   ]
  },
  {
   "cell_type": "markdown",
   "metadata": {},
   "source": [
    "For example, lets first create a new item of content."
   ]
  },
  {
   "cell_type": "code",
   "execution_count": 1,
   "metadata": {},
   "outputs": [
    {
     "data": {
      "text/html": [
       "<pre style=\"white-space:pre;overflow-x:auto;line-height:normal;font-family:Menlo,'DejaVu Sans Mono',consolas,'Courier New',monospace\"><span style=\"color: #008000; text-decoration-color: #008000; font-weight: bold\">New content created:</span>\n",
       "</pre>\n"
      ],
      "text/plain": [
       "\u001b[1;32mNew content created:\u001b[0m\n"
      ]
     },
     "metadata": {},
     "output_type": "display_data"
    },
    {
     "data": {
      "text/html": [
       "<pre style=\"white-space:pre;overflow-x:auto;line-height:normal;font-family:Menlo,'DejaVu Sans Mono',consolas,'Courier New',monospace\">- Dashboard view url: <span style=\"color: #0000ff; text-decoration-color: #0000ff; text-decoration: underline\">https://colorado.rstudio.com/rsc/connect/#/apps/20ff8bad-a7be-4c5a-bc62-5a30bd208a8a</span>\n",
       "</pre>\n"
      ],
      "text/plain": [
       "- Dashboard view url: \u001b[4;94mhttps://colorado.rstudio.com/rsc/connect/#/apps/20ff8bad-a7be-4c5a-bc62-5a30bd208a8a\u001b[0m\n"
      ]
     },
     "metadata": {},
     "output_type": "display_data"
    },
    {
     "data": {
      "text/html": [
       "<pre style=\"white-space:pre;overflow-x:auto;line-height:normal;font-family:Menlo,'DejaVu Sans Mono',consolas,'Courier New',monospace\">- Solo view url: <span style=\"color: #0000ff; text-decoration-color: #0000ff; text-decoration: underline\">https://colorado.rstudio.com/rsc/20ff8bad-a7be-4c5a-bc62-5a30bd208a8a</span>\n",
       "</pre>\n"
      ],
      "text/plain": [
       "- Solo view url: \u001b[4;94mhttps://colorado.rstudio.com/rsc/20ff8bad-a7be-4c5a-bc62-5a30bd208a8a\u001b[0m\n"
      ]
     },
     "metadata": {},
     "output_type": "display_data"
    }
   ],
   "source": [
    "from uuid import uuid4\n",
    "\n",
    "from connectapi import Client, Content\n",
    "\n",
    "client = Client()\n",
    "content = Content.create(\n",
    "    client=client,\n",
    "    title='Quarterly Analysis of Team Velocity',\n",
    "    description='This report calculates per-team statistics',\n",
    "    name=str(uuid4())    \n",
    ")\n"
   ]
  },
  {
   "cell_type": "code",
   "execution_count": 2,
   "metadata": {},
   "outputs": [
    {
     "name": "stdout",
     "output_type": "stream",
     "text": [
      "Quarterly Analysis of Team Velocity 9ec49b4e-9397-4850-a8f4-7d640b8d27b3\n"
     ]
    }
   ],
   "source": [
    "print(content.title, content.guid)"
   ]
  },
  {
   "cell_type": "code",
   "execution_count": null,
   "metadata": {},
   "outputs": [],
   "source": [
    "from connectapi import Client, Content\n",
    "\n",
    "client = Client()\n",
    "my_content = Content.get_my_content(client)"
   ]
  },
  {
   "cell_type": "markdown",
   "metadata": {},
   "source": [
    "## Deleting content"
   ]
  },
  {
   "cell_type": "markdown",
   "metadata": {},
   "source": []
  },
  {
   "cell_type": "code",
   "execution_count": 4,
   "metadata": {},
   "outputs": [
    {
     "name": "stdout",
     "output_type": "stream",
     "text": [
      "https://colorado.rstudio.com/rsc/content/20ff8bad-a7be-4c5a-bc62-5a30bd208a8a/\n",
      "https://colorado.rstudio.com/rsc/connect/#/apps/20ff8bad-a7be-4c5a-bc62-5a30bd208a8a\n"
     ]
    }
   ],
   "source": [
    "print(content.content_url)\n",
    "print(content.dashboard_url)"
   ]
  },
  {
   "cell_type": "code",
   "execution_count": null,
   "metadata": {},
   "outputs": [],
   "source": []
  }
 ],
 "metadata": {
  "kernelspec": {
   "display_name": "Python 3.9.12 ('.venv': poetry)",
   "language": "python",
   "name": "python3"
  },
  "language_info": {
   "codemirror_mode": {
    "name": "ipython",
    "version": 3
   },
   "file_extension": ".py",
   "mimetype": "text/x-python",
   "name": "python",
   "nbconvert_exporter": "python",
   "pygments_lexer": "ipython3",
   "version": "3.9.12"
  },
  "vscode": {
   "interpreter": {
    "hash": "cf9e35367ee901c2a8ccb3be767adeb977483f64b12902f3335a32fc43a8b974"
   }
  }
 },
 "nbformat": 4,
 "nbformat_minor": 2
}
